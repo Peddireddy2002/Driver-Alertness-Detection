{
  "nbformat": 4,
  "nbformat_minor": 0,
  "metadata": {
    "colab": {
      "provenance": []
    },
    "kernelspec": {
      "name": "python3",
      "display_name": "Python 3"
    },
    "language_info": {
      "name": "python"
    }
  },
  "cells": [
    {
      "cell_type": "markdown",
      "metadata": {
        "id": "NMRbyeFKeDW1"
      },
      "source": [
        "# Driver Alertness Detection"
      ]
    },
    {
      "cell_type": "markdown",
      "metadata": {
        "id": "l7GbZNksAbGa"
      },
      "source": [
        "Workflow of the project:\n",
        "\n",
        "- Downloading a real-world dataset from a Kaggle competition\n",
        "- Exploring Data Analysis\n",
        "- Identifying input and target columns\n",
        "- Separating numeric and categorical columns\n",
        "- checking and impute missing values in numeric columns.\n",
        "- scaling numeric columns to range(0,1)\n",
        "- encoding categorical columns(if any).\n",
        "- Splitting the data into train and validation sets.\n",
        "- Model defining and Making predicitions.\n",
        "- Hyperparameter tuning.\n",
        "- Preprocessing the test data\n",
        "- making predicitios on test data."
      ]
    },
    {
      "cell_type": "markdown",
      "metadata": {
        "id": "azQzfFWLfcoK"
      },
      "source": [
        "###Import Libraies and Load the Data"
      ]
    },
    {
      "cell_type": "code",
      "metadata": {
        "id": "s7O8RlF8S5IV"
      },
      "source": [
        "!pip install jovian opendatasets xgboost graphviz lightgbm scikit-learn xgboost lightgbm --upgrade --quiet"
      ],
      "execution_count": null,
      "outputs": []
    },
    {
      "cell_type": "code",
      "metadata": {
        "id": "h2gMW8W7TEoj"
      },
      "source": [
        "import numpy as np\n",
        "import pandas as pd\n",
        "import seaborn as sns\n",
        "import matplotlib.pyplot as plt"
      ],
      "execution_count": null,
      "outputs": []
    },
    {
      "cell_type": "code",
      "metadata": {
        "id": "his5Qf8DTGfB"
      },
      "source": [
        "import os\n",
        "import opendatasets as od\n",
        "import pandas as pd\n",
        "pd.set_option(\"display.max_columns\", 120)\n",
        "pd.set_option(\"display.max_rows\", 120)"
      ],
      "execution_count": null,
      "outputs": []
    },
    {
      "cell_type": "markdown",
      "metadata": {
        "id": "H5JAseCkBNQo"
      },
      "source": [
        "**Problem Statement:**  \n",
        "The objective of this challenge is to design a detector/classifier that will detect whether the driver is alert or not alert, employing any combination of vehicular, environmental and driver physiological data that are acquired while driving.\n",
        "dataset = [Stay Alert! The Ford Challenge](https://www.kaggle.com/c/stayalert/data)."
      ]
    },
    {
      "cell_type": "code",
      "metadata": {
        "colab": {
          "base_uri": "https://localhost:8080/"
        },
        "id": "PGS8flIvTIaQ",
        "outputId": "fe3832bb-94b6-4768-d8f7-24cfaba3af7f"
      },
      "source": [
        "od.download('https://www.kaggle.com/c/stayalert/data')"
      ],
      "execution_count": null,
      "outputs": [
        {
          "output_type": "stream",
          "text": [
            "Skipping, found downloaded files in \"./stayalert\" (use force=True to force download)\n"
          ],
          "name": "stdout"
        }
      ]
    },
    {
      "cell_type": "code",
      "metadata": {
        "colab": {
          "base_uri": "https://localhost:8080/"
        },
        "id": "cDvD5n7nek3q",
        "outputId": "5ee70fb7-6ce2-4294-ff32-85fff31e7cfe"
      },
      "source": [
        "os.listdir('stayalert')"
      ],
      "execution_count": null,
      "outputs": [
        {
          "output_type": "execute_result",
          "data": {
            "text/plain": [
              "['Solution.csv', 'fordTrain.csv', 'fordTest.csv', 'example_submission.csv']"
            ]
          },
          "metadata": {},
          "execution_count": 5
        }
      ]
    },
    {
      "cell_type": "code",
      "metadata": {
        "id": "IL6nA37zeqej"
      },
      "source": [
        "train = pd.read_csv('./stayalert/fordTrain.csv')\n",
        "test = pd.read_csv('./stayalert/fordTest.csv')"
      ],
      "execution_count": null,
      "outputs": []
    },
    {
      "cell_type": "code",
      "metadata": {
        "colab": {
          "base_uri": "https://localhost:8080/",
          "height": 226
        },
        "id": "CdHt6UPFe5G3",
        "outputId": "8d058956-5d56-484c-fb66-da0ddbc73121"
      },
      "source": [
        "train.head()"
      ],
      "execution_count": null,
      "outputs": [
        {
          "output_type": "execute_result",
          "data": {
            "text/html": [
              "<div>\n",
              "<style scoped>\n",
              "    .dataframe tbody tr th:only-of-type {\n",
              "        vertical-align: middle;\n",
              "    }\n",
              "\n",
              "    .dataframe tbody tr th {\n",
              "        vertical-align: top;\n",
              "    }\n",
              "\n",
              "    .dataframe thead th {\n",
              "        text-align: right;\n",
              "    }\n",
              "</style>\n",
              "<table border=\"1\" class=\"dataframe\">\n",
              "  <thead>\n",
              "    <tr style=\"text-align: right;\">\n",
              "      <th></th>\n",
              "      <th>TrialID</th>\n",
              "      <th>ObsNum</th>\n",
              "      <th>IsAlert</th>\n",
              "      <th>P1</th>\n",
              "      <th>P2</th>\n",
              "      <th>P3</th>\n",
              "      <th>P4</th>\n",
              "      <th>P5</th>\n",
              "      <th>P6</th>\n",
              "      <th>P7</th>\n",
              "      <th>P8</th>\n",
              "      <th>E1</th>\n",
              "      <th>E2</th>\n",
              "      <th>E3</th>\n",
              "      <th>E4</th>\n",
              "      <th>E5</th>\n",
              "      <th>E6</th>\n",
              "      <th>E7</th>\n",
              "      <th>E8</th>\n",
              "      <th>E9</th>\n",
              "      <th>E10</th>\n",
              "      <th>E11</th>\n",
              "      <th>V1</th>\n",
              "      <th>V2</th>\n",
              "      <th>V3</th>\n",
              "      <th>V4</th>\n",
              "      <th>V5</th>\n",
              "      <th>V6</th>\n",
              "      <th>V7</th>\n",
              "      <th>V8</th>\n",
              "      <th>V9</th>\n",
              "      <th>V10</th>\n",
              "      <th>V11</th>\n",
              "    </tr>\n",
              "  </thead>\n",
              "  <tbody>\n",
              "    <tr>\n",
              "      <th>0</th>\n",
              "      <td>0</td>\n",
              "      <td>0</td>\n",
              "      <td>0</td>\n",
              "      <td>34.7406</td>\n",
              "      <td>9.84593</td>\n",
              "      <td>1400</td>\n",
              "      <td>42.8571</td>\n",
              "      <td>0.290601</td>\n",
              "      <td>572</td>\n",
              "      <td>104.895</td>\n",
              "      <td>0</td>\n",
              "      <td>0.0</td>\n",
              "      <td>0.0</td>\n",
              "      <td>1</td>\n",
              "      <td>-20</td>\n",
              "      <td>0.015875</td>\n",
              "      <td>324</td>\n",
              "      <td>1</td>\n",
              "      <td>1</td>\n",
              "      <td>1</td>\n",
              "      <td>57</td>\n",
              "      <td>0.0</td>\n",
              "      <td>101.96</td>\n",
              "      <td>0.175</td>\n",
              "      <td>752</td>\n",
              "      <td>5.99375</td>\n",
              "      <td>0</td>\n",
              "      <td>2005</td>\n",
              "      <td>0</td>\n",
              "      <td>13.4</td>\n",
              "      <td>0</td>\n",
              "      <td>4</td>\n",
              "      <td>14.8004</td>\n",
              "    </tr>\n",
              "    <tr>\n",
              "      <th>1</th>\n",
              "      <td>0</td>\n",
              "      <td>1</td>\n",
              "      <td>0</td>\n",
              "      <td>34.4215</td>\n",
              "      <td>13.41120</td>\n",
              "      <td>1400</td>\n",
              "      <td>42.8571</td>\n",
              "      <td>0.290601</td>\n",
              "      <td>572</td>\n",
              "      <td>104.895</td>\n",
              "      <td>0</td>\n",
              "      <td>0.0</td>\n",
              "      <td>0.0</td>\n",
              "      <td>1</td>\n",
              "      <td>-20</td>\n",
              "      <td>0.015875</td>\n",
              "      <td>324</td>\n",
              "      <td>1</td>\n",
              "      <td>1</td>\n",
              "      <td>1</td>\n",
              "      <td>57</td>\n",
              "      <td>0.0</td>\n",
              "      <td>101.98</td>\n",
              "      <td>0.455</td>\n",
              "      <td>752</td>\n",
              "      <td>5.99375</td>\n",
              "      <td>0</td>\n",
              "      <td>2007</td>\n",
              "      <td>0</td>\n",
              "      <td>13.4</td>\n",
              "      <td>0</td>\n",
              "      <td>4</td>\n",
              "      <td>14.7729</td>\n",
              "    </tr>\n",
              "    <tr>\n",
              "      <th>2</th>\n",
              "      <td>0</td>\n",
              "      <td>2</td>\n",
              "      <td>0</td>\n",
              "      <td>34.3447</td>\n",
              "      <td>15.18520</td>\n",
              "      <td>1400</td>\n",
              "      <td>42.8571</td>\n",
              "      <td>0.290601</td>\n",
              "      <td>576</td>\n",
              "      <td>104.167</td>\n",
              "      <td>0</td>\n",
              "      <td>0.0</td>\n",
              "      <td>0.0</td>\n",
              "      <td>1</td>\n",
              "      <td>-20</td>\n",
              "      <td>0.015875</td>\n",
              "      <td>324</td>\n",
              "      <td>1</td>\n",
              "      <td>1</td>\n",
              "      <td>1</td>\n",
              "      <td>57</td>\n",
              "      <td>0.0</td>\n",
              "      <td>101.97</td>\n",
              "      <td>0.280</td>\n",
              "      <td>752</td>\n",
              "      <td>5.99375</td>\n",
              "      <td>0</td>\n",
              "      <td>2011</td>\n",
              "      <td>0</td>\n",
              "      <td>13.4</td>\n",
              "      <td>0</td>\n",
              "      <td>4</td>\n",
              "      <td>14.7736</td>\n",
              "    </tr>\n",
              "    <tr>\n",
              "      <th>3</th>\n",
              "      <td>0</td>\n",
              "      <td>3</td>\n",
              "      <td>0</td>\n",
              "      <td>34.3421</td>\n",
              "      <td>8.84696</td>\n",
              "      <td>1400</td>\n",
              "      <td>42.8571</td>\n",
              "      <td>0.290601</td>\n",
              "      <td>576</td>\n",
              "      <td>104.167</td>\n",
              "      <td>0</td>\n",
              "      <td>0.0</td>\n",
              "      <td>0.0</td>\n",
              "      <td>1</td>\n",
              "      <td>-20</td>\n",
              "      <td>0.015875</td>\n",
              "      <td>324</td>\n",
              "      <td>1</td>\n",
              "      <td>1</td>\n",
              "      <td>1</td>\n",
              "      <td>57</td>\n",
              "      <td>0.0</td>\n",
              "      <td>101.99</td>\n",
              "      <td>0.070</td>\n",
              "      <td>752</td>\n",
              "      <td>5.99375</td>\n",
              "      <td>0</td>\n",
              "      <td>2015</td>\n",
              "      <td>0</td>\n",
              "      <td>13.4</td>\n",
              "      <td>0</td>\n",
              "      <td>4</td>\n",
              "      <td>14.7667</td>\n",
              "    </tr>\n",
              "    <tr>\n",
              "      <th>4</th>\n",
              "      <td>0</td>\n",
              "      <td>4</td>\n",
              "      <td>0</td>\n",
              "      <td>34.3322</td>\n",
              "      <td>14.69940</td>\n",
              "      <td>1400</td>\n",
              "      <td>42.8571</td>\n",
              "      <td>0.290601</td>\n",
              "      <td>576</td>\n",
              "      <td>104.167</td>\n",
              "      <td>0</td>\n",
              "      <td>0.0</td>\n",
              "      <td>0.0</td>\n",
              "      <td>1</td>\n",
              "      <td>-20</td>\n",
              "      <td>0.015875</td>\n",
              "      <td>324</td>\n",
              "      <td>1</td>\n",
              "      <td>1</td>\n",
              "      <td>1</td>\n",
              "      <td>57</td>\n",
              "      <td>0.0</td>\n",
              "      <td>102.07</td>\n",
              "      <td>0.175</td>\n",
              "      <td>752</td>\n",
              "      <td>5.99375</td>\n",
              "      <td>0</td>\n",
              "      <td>2017</td>\n",
              "      <td>0</td>\n",
              "      <td>13.4</td>\n",
              "      <td>0</td>\n",
              "      <td>4</td>\n",
              "      <td>14.7757</td>\n",
              "    </tr>\n",
              "  </tbody>\n",
              "</table>\n",
              "</div>"
            ],
            "text/plain": [
              "   TrialID  ObsNum  IsAlert       P1        P2    P3       P4        P5   P6  \\\n",
              "0        0       0        0  34.7406   9.84593  1400  42.8571  0.290601  572   \n",
              "1        0       1        0  34.4215  13.41120  1400  42.8571  0.290601  572   \n",
              "2        0       2        0  34.3447  15.18520  1400  42.8571  0.290601  576   \n",
              "3        0       3        0  34.3421   8.84696  1400  42.8571  0.290601  576   \n",
              "4        0       4        0  34.3322  14.69940  1400  42.8571  0.290601  576   \n",
              "\n",
              "        P7  P8   E1   E2  E3  E4        E5   E6  E7  E8  E9  E10  E11      V1  \\\n",
              "0  104.895   0  0.0  0.0   1 -20  0.015875  324   1   1   1   57  0.0  101.96   \n",
              "1  104.895   0  0.0  0.0   1 -20  0.015875  324   1   1   1   57  0.0  101.98   \n",
              "2  104.167   0  0.0  0.0   1 -20  0.015875  324   1   1   1   57  0.0  101.97   \n",
              "3  104.167   0  0.0  0.0   1 -20  0.015875  324   1   1   1   57  0.0  101.99   \n",
              "4  104.167   0  0.0  0.0   1 -20  0.015875  324   1   1   1   57  0.0  102.07   \n",
              "\n",
              "      V2   V3       V4  V5    V6  V7    V8  V9  V10      V11  \n",
              "0  0.175  752  5.99375   0  2005   0  13.4   0    4  14.8004  \n",
              "1  0.455  752  5.99375   0  2007   0  13.4   0    4  14.7729  \n",
              "2  0.280  752  5.99375   0  2011   0  13.4   0    4  14.7736  \n",
              "3  0.070  752  5.99375   0  2015   0  13.4   0    4  14.7667  \n",
              "4  0.175  752  5.99375   0  2017   0  13.4   0    4  14.7757  "
            ]
          },
          "metadata": {},
          "execution_count": 7
        }
      ]
    },
    {
      "cell_type": "code",
      "metadata": {
        "colab": {
          "base_uri": "https://localhost:8080/",
          "height": 226
        },
        "id": "ctwThwLFe9VE",
        "outputId": "80cbf491-0a71-4118-f3d1-b8b4143be4dd"
      },
      "source": [
        "test.head()"
      ],
      "execution_count": null,
      "outputs": [
        {
          "output_type": "execute_result",
          "data": {
            "text/html": [
              "<div>\n",
              "<style scoped>\n",
              "    .dataframe tbody tr th:only-of-type {\n",
              "        vertical-align: middle;\n",
              "    }\n",
              "\n",
              "    .dataframe tbody tr th {\n",
              "        vertical-align: top;\n",
              "    }\n",
              "\n",
              "    .dataframe thead th {\n",
              "        text-align: right;\n",
              "    }\n",
              "</style>\n",
              "<table border=\"1\" class=\"dataframe\">\n",
              "  <thead>\n",
              "    <tr style=\"text-align: right;\">\n",
              "      <th></th>\n",
              "      <th>TrialID</th>\n",
              "      <th>ObsNum</th>\n",
              "      <th>IsAlert</th>\n",
              "      <th>P1</th>\n",
              "      <th>P2</th>\n",
              "      <th>P3</th>\n",
              "      <th>P4</th>\n",
              "      <th>P5</th>\n",
              "      <th>P6</th>\n",
              "      <th>P7</th>\n",
              "      <th>P8</th>\n",
              "      <th>E1</th>\n",
              "      <th>E2</th>\n",
              "      <th>E3</th>\n",
              "      <th>E4</th>\n",
              "      <th>E5</th>\n",
              "      <th>E6</th>\n",
              "      <th>E7</th>\n",
              "      <th>E8</th>\n",
              "      <th>E9</th>\n",
              "      <th>E10</th>\n",
              "      <th>E11</th>\n",
              "      <th>V1</th>\n",
              "      <th>V2</th>\n",
              "      <th>V3</th>\n",
              "      <th>V4</th>\n",
              "      <th>V5</th>\n",
              "      <th>V6</th>\n",
              "      <th>V7</th>\n",
              "      <th>V8</th>\n",
              "      <th>V9</th>\n",
              "      <th>V10</th>\n",
              "      <th>V11</th>\n",
              "    </tr>\n",
              "  </thead>\n",
              "  <tbody>\n",
              "    <tr>\n",
              "      <th>0</th>\n",
              "      <td>0</td>\n",
              "      <td>0</td>\n",
              "      <td>?</td>\n",
              "      <td>38.4294</td>\n",
              "      <td>10.9435</td>\n",
              "      <td>1000</td>\n",
              "      <td>60.0</td>\n",
              "      <td>0.302277</td>\n",
              "      <td>508</td>\n",
              "      <td>118.110</td>\n",
              "      <td>0</td>\n",
              "      <td>0.0</td>\n",
              "      <td>0.0</td>\n",
              "      <td>4</td>\n",
              "      <td>4</td>\n",
              "      <td>0.015434</td>\n",
              "      <td>328</td>\n",
              "      <td>1</td>\n",
              "      <td>1</td>\n",
              "      <td>1</td>\n",
              "      <td>64</td>\n",
              "      <td>0.0</td>\n",
              "      <td>108.57</td>\n",
              "      <td>0.00</td>\n",
              "      <td>255</td>\n",
              "      <td>4.50625</td>\n",
              "      <td>0</td>\n",
              "      <td>2127</td>\n",
              "      <td>0</td>\n",
              "      <td>17.6</td>\n",
              "      <td>0</td>\n",
              "      <td>4</td>\n",
              "      <td>16.1937</td>\n",
              "    </tr>\n",
              "    <tr>\n",
              "      <th>1</th>\n",
              "      <td>0</td>\n",
              "      <td>1</td>\n",
              "      <td>?</td>\n",
              "      <td>38.3609</td>\n",
              "      <td>15.3212</td>\n",
              "      <td>1000</td>\n",
              "      <td>60.0</td>\n",
              "      <td>0.302277</td>\n",
              "      <td>508</td>\n",
              "      <td>118.110</td>\n",
              "      <td>0</td>\n",
              "      <td>0.0</td>\n",
              "      <td>0.0</td>\n",
              "      <td>4</td>\n",
              "      <td>4</td>\n",
              "      <td>0.015434</td>\n",
              "      <td>328</td>\n",
              "      <td>1</td>\n",
              "      <td>1</td>\n",
              "      <td>1</td>\n",
              "      <td>64</td>\n",
              "      <td>0.0</td>\n",
              "      <td>108.57</td>\n",
              "      <td>0.00</td>\n",
              "      <td>255</td>\n",
              "      <td>4.50625</td>\n",
              "      <td>0</td>\n",
              "      <td>2127</td>\n",
              "      <td>0</td>\n",
              "      <td>17.6</td>\n",
              "      <td>0</td>\n",
              "      <td>4</td>\n",
              "      <td>16.1744</td>\n",
              "    </tr>\n",
              "    <tr>\n",
              "      <th>2</th>\n",
              "      <td>0</td>\n",
              "      <td>2</td>\n",
              "      <td>?</td>\n",
              "      <td>38.2342</td>\n",
              "      <td>11.5140</td>\n",
              "      <td>1000</td>\n",
              "      <td>60.0</td>\n",
              "      <td>0.302277</td>\n",
              "      <td>508</td>\n",
              "      <td>118.110</td>\n",
              "      <td>0</td>\n",
              "      <td>0.0</td>\n",
              "      <td>0.0</td>\n",
              "      <td>4</td>\n",
              "      <td>8</td>\n",
              "      <td>0.015938</td>\n",
              "      <td>328</td>\n",
              "      <td>1</td>\n",
              "      <td>1</td>\n",
              "      <td>1</td>\n",
              "      <td>65</td>\n",
              "      <td>0.0</td>\n",
              "      <td>108.65</td>\n",
              "      <td>0.07</td>\n",
              "      <td>255</td>\n",
              "      <td>4.50625</td>\n",
              "      <td>0</td>\n",
              "      <td>2131</td>\n",
              "      <td>0</td>\n",
              "      <td>17.6</td>\n",
              "      <td>0</td>\n",
              "      <td>4</td>\n",
              "      <td>16.1602</td>\n",
              "    </tr>\n",
              "    <tr>\n",
              "      <th>3</th>\n",
              "      <td>0</td>\n",
              "      <td>3</td>\n",
              "      <td>?</td>\n",
              "      <td>37.9304</td>\n",
              "      <td>12.2615</td>\n",
              "      <td>1000</td>\n",
              "      <td>60.0</td>\n",
              "      <td>0.302277</td>\n",
              "      <td>508</td>\n",
              "      <td>118.110</td>\n",
              "      <td>0</td>\n",
              "      <td>0.0</td>\n",
              "      <td>0.0</td>\n",
              "      <td>4</td>\n",
              "      <td>8</td>\n",
              "      <td>0.015938</td>\n",
              "      <td>328</td>\n",
              "      <td>1</td>\n",
              "      <td>1</td>\n",
              "      <td>1</td>\n",
              "      <td>65</td>\n",
              "      <td>0.0</td>\n",
              "      <td>108.65</td>\n",
              "      <td>0.07</td>\n",
              "      <td>255</td>\n",
              "      <td>4.50625</td>\n",
              "      <td>0</td>\n",
              "      <td>2131</td>\n",
              "      <td>0</td>\n",
              "      <td>17.6</td>\n",
              "      <td>0</td>\n",
              "      <td>4</td>\n",
              "      <td>16.1725</td>\n",
              "    </tr>\n",
              "    <tr>\n",
              "      <th>4</th>\n",
              "      <td>0</td>\n",
              "      <td>4</td>\n",
              "      <td>?</td>\n",
              "      <td>37.8085</td>\n",
              "      <td>12.3666</td>\n",
              "      <td>1000</td>\n",
              "      <td>60.0</td>\n",
              "      <td>0.302277</td>\n",
              "      <td>504</td>\n",
              "      <td>119.048</td>\n",
              "      <td>0</td>\n",
              "      <td>0.0</td>\n",
              "      <td>0.0</td>\n",
              "      <td>4</td>\n",
              "      <td>8</td>\n",
              "      <td>0.015938</td>\n",
              "      <td>328</td>\n",
              "      <td>1</td>\n",
              "      <td>1</td>\n",
              "      <td>1</td>\n",
              "      <td>65</td>\n",
              "      <td>0.0</td>\n",
              "      <td>108.57</td>\n",
              "      <td>0.00</td>\n",
              "      <td>255</td>\n",
              "      <td>4.50625</td>\n",
              "      <td>0</td>\n",
              "      <td>2136</td>\n",
              "      <td>0</td>\n",
              "      <td>17.6</td>\n",
              "      <td>0</td>\n",
              "      <td>4</td>\n",
              "      <td>16.1459</td>\n",
              "    </tr>\n",
              "  </tbody>\n",
              "</table>\n",
              "</div>"
            ],
            "text/plain": [
              "   TrialID  ObsNum IsAlert       P1       P2    P3    P4        P5   P6  \\\n",
              "0        0       0       ?  38.4294  10.9435  1000  60.0  0.302277  508   \n",
              "1        0       1       ?  38.3609  15.3212  1000  60.0  0.302277  508   \n",
              "2        0       2       ?  38.2342  11.5140  1000  60.0  0.302277  508   \n",
              "3        0       3       ?  37.9304  12.2615  1000  60.0  0.302277  508   \n",
              "4        0       4       ?  37.8085  12.3666  1000  60.0  0.302277  504   \n",
              "\n",
              "        P7  P8   E1   E2  E3  E4        E5   E6  E7  E8  E9  E10  E11      V1  \\\n",
              "0  118.110   0  0.0  0.0   4   4  0.015434  328   1   1   1   64  0.0  108.57   \n",
              "1  118.110   0  0.0  0.0   4   4  0.015434  328   1   1   1   64  0.0  108.57   \n",
              "2  118.110   0  0.0  0.0   4   8  0.015938  328   1   1   1   65  0.0  108.65   \n",
              "3  118.110   0  0.0  0.0   4   8  0.015938  328   1   1   1   65  0.0  108.65   \n",
              "4  119.048   0  0.0  0.0   4   8  0.015938  328   1   1   1   65  0.0  108.57   \n",
              "\n",
              "     V2   V3       V4  V5    V6  V7    V8  V9  V10      V11  \n",
              "0  0.00  255  4.50625   0  2127   0  17.6   0    4  16.1937  \n",
              "1  0.00  255  4.50625   0  2127   0  17.6   0    4  16.1744  \n",
              "2  0.07  255  4.50625   0  2131   0  17.6   0    4  16.1602  \n",
              "3  0.07  255  4.50625   0  2131   0  17.6   0    4  16.1725  \n",
              "4  0.00  255  4.50625   0  2136   0  17.6   0    4  16.1459  "
            ]
          },
          "metadata": {},
          "execution_count": 8
        }
      ]
    },
    {
      "cell_type": "code",
      "metadata": {
        "colab": {
          "base_uri": "https://localhost:8080/"
        },
        "id": "GrVtb7nzfLyl",
        "outputId": "7b85d27f-6730-4870-e8bf-77d40460ace2"
      },
      "source": [
        "test['IsAlert'].value_counts()"
      ],
      "execution_count": null,
      "outputs": [
        {
          "output_type": "execute_result",
          "data": {
            "text/plain": [
              "?    120840\n",
              "Name: IsAlert, dtype: int64"
            ]
          },
          "metadata": {},
          "execution_count": 9
        }
      ]
    },
    {
      "cell_type": "code",
      "metadata": {
        "id": "QKGFLm7cfPlL"
      },
      "source": [
        "test.drop(['IsAlert'], 1, inplace=True)"
      ],
      "execution_count": null,
      "outputs": []
    },
    {
      "cell_type": "code",
      "metadata": {
        "colab": {
          "base_uri": "https://localhost:8080/",
          "height": 226
        },
        "id": "KburDtLPfWgC",
        "outputId": "68619ec6-d0ec-4105-a781-57840d9b0f59"
      },
      "source": [
        "test.head()"
      ],
      "execution_count": null,
      "outputs": [
        {
          "output_type": "execute_result",
          "data": {
            "text/html": [
              "<div>\n",
              "<style scoped>\n",
              "    .dataframe tbody tr th:only-of-type {\n",
              "        vertical-align: middle;\n",
              "    }\n",
              "\n",
              "    .dataframe tbody tr th {\n",
              "        vertical-align: top;\n",
              "    }\n",
              "\n",
              "    .dataframe thead th {\n",
              "        text-align: right;\n",
              "    }\n",
              "</style>\n",
              "<table border=\"1\" class=\"dataframe\">\n",
              "  <thead>\n",
              "    <tr style=\"text-align: right;\">\n",
              "      <th></th>\n",
              "      <th>TrialID</th>\n",
              "      <th>ObsNum</th>\n",
              "      <th>P1</th>\n",
              "      <th>P2</th>\n",
              "      <th>P3</th>\n",
              "      <th>P4</th>\n",
              "      <th>P5</th>\n",
              "      <th>P6</th>\n",
              "      <th>P7</th>\n",
              "      <th>P8</th>\n",
              "      <th>E1</th>\n",
              "      <th>E2</th>\n",
              "      <th>E3</th>\n",
              "      <th>E4</th>\n",
              "      <th>E5</th>\n",
              "      <th>E6</th>\n",
              "      <th>E7</th>\n",
              "      <th>E8</th>\n",
              "      <th>E9</th>\n",
              "      <th>E10</th>\n",
              "      <th>E11</th>\n",
              "      <th>V1</th>\n",
              "      <th>V2</th>\n",
              "      <th>V3</th>\n",
              "      <th>V4</th>\n",
              "      <th>V5</th>\n",
              "      <th>V6</th>\n",
              "      <th>V7</th>\n",
              "      <th>V8</th>\n",
              "      <th>V9</th>\n",
              "      <th>V10</th>\n",
              "      <th>V11</th>\n",
              "    </tr>\n",
              "  </thead>\n",
              "  <tbody>\n",
              "    <tr>\n",
              "      <th>0</th>\n",
              "      <td>0</td>\n",
              "      <td>0</td>\n",
              "      <td>38.4294</td>\n",
              "      <td>10.9435</td>\n",
              "      <td>1000</td>\n",
              "      <td>60.0</td>\n",
              "      <td>0.302277</td>\n",
              "      <td>508</td>\n",
              "      <td>118.110</td>\n",
              "      <td>0</td>\n",
              "      <td>0.0</td>\n",
              "      <td>0.0</td>\n",
              "      <td>4</td>\n",
              "      <td>4</td>\n",
              "      <td>0.015434</td>\n",
              "      <td>328</td>\n",
              "      <td>1</td>\n",
              "      <td>1</td>\n",
              "      <td>1</td>\n",
              "      <td>64</td>\n",
              "      <td>0.0</td>\n",
              "      <td>108.57</td>\n",
              "      <td>0.00</td>\n",
              "      <td>255</td>\n",
              "      <td>4.50625</td>\n",
              "      <td>0</td>\n",
              "      <td>2127</td>\n",
              "      <td>0</td>\n",
              "      <td>17.6</td>\n",
              "      <td>0</td>\n",
              "      <td>4</td>\n",
              "      <td>16.1937</td>\n",
              "    </tr>\n",
              "    <tr>\n",
              "      <th>1</th>\n",
              "      <td>0</td>\n",
              "      <td>1</td>\n",
              "      <td>38.3609</td>\n",
              "      <td>15.3212</td>\n",
              "      <td>1000</td>\n",
              "      <td>60.0</td>\n",
              "      <td>0.302277</td>\n",
              "      <td>508</td>\n",
              "      <td>118.110</td>\n",
              "      <td>0</td>\n",
              "      <td>0.0</td>\n",
              "      <td>0.0</td>\n",
              "      <td>4</td>\n",
              "      <td>4</td>\n",
              "      <td>0.015434</td>\n",
              "      <td>328</td>\n",
              "      <td>1</td>\n",
              "      <td>1</td>\n",
              "      <td>1</td>\n",
              "      <td>64</td>\n",
              "      <td>0.0</td>\n",
              "      <td>108.57</td>\n",
              "      <td>0.00</td>\n",
              "      <td>255</td>\n",
              "      <td>4.50625</td>\n",
              "      <td>0</td>\n",
              "      <td>2127</td>\n",
              "      <td>0</td>\n",
              "      <td>17.6</td>\n",
              "      <td>0</td>\n",
              "      <td>4</td>\n",
              "      <td>16.1744</td>\n",
              "    </tr>\n",
              "    <tr>\n",
              "      <th>2</th>\n",
              "      <td>0</td>\n",
              "      <td>2</td>\n",
              "      <td>38.2342</td>\n",
              "      <td>11.5140</td>\n",
              "      <td>1000</td>\n",
              "      <td>60.0</td>\n",
              "      <td>0.302277</td>\n",
              "      <td>508</td>\n",
              "      <td>118.110</td>\n",
              "      <td>0</td>\n",
              "      <td>0.0</td>\n",
              "      <td>0.0</td>\n",
              "      <td>4</td>\n",
              "      <td>8</td>\n",
              "      <td>0.015938</td>\n",
              "      <td>328</td>\n",
              "      <td>1</td>\n",
              "      <td>1</td>\n",
              "      <td>1</td>\n",
              "      <td>65</td>\n",
              "      <td>0.0</td>\n",
              "      <td>108.65</td>\n",
              "      <td>0.07</td>\n",
              "      <td>255</td>\n",
              "      <td>4.50625</td>\n",
              "      <td>0</td>\n",
              "      <td>2131</td>\n",
              "      <td>0</td>\n",
              "      <td>17.6</td>\n",
              "      <td>0</td>\n",
              "      <td>4</td>\n",
              "      <td>16.1602</td>\n",
              "    </tr>\n",
              "    <tr>\n",
              "      <th>3</th>\n",
              "      <td>0</td>\n",
              "      <td>3</td>\n",
              "      <td>37.9304</td>\n",
              "      <td>12.2615</td>\n",
              "      <td>1000</td>\n",
              "      <td>60.0</td>\n",
              "      <td>0.302277</td>\n",
              "      <td>508</td>\n",
              "      <td>118.110</td>\n",
              "      <td>0</td>\n",
              "      <td>0.0</td>\n",
              "      <td>0.0</td>\n",
              "      <td>4</td>\n",
              "      <td>8</td>\n",
              "      <td>0.015938</td>\n",
              "      <td>328</td>\n",
              "      <td>1</td>\n",
              "      <td>1</td>\n",
              "      <td>1</td>\n",
              "      <td>65</td>\n",
              "      <td>0.0</td>\n",
              "      <td>108.65</td>\n",
              "      <td>0.07</td>\n",
              "      <td>255</td>\n",
              "      <td>4.50625</td>\n",
              "      <td>0</td>\n",
              "      <td>2131</td>\n",
              "      <td>0</td>\n",
              "      <td>17.6</td>\n",
              "      <td>0</td>\n",
              "      <td>4</td>\n",
              "      <td>16.1725</td>\n",
              "    </tr>\n",
              "    <tr>\n",
              "      <th>4</th>\n",
              "      <td>0</td>\n",
              "      <td>4</td>\n",
              "      <td>37.8085</td>\n",
              "      <td>12.3666</td>\n",
              "      <td>1000</td>\n",
              "      <td>60.0</td>\n",
              "      <td>0.302277</td>\n",
              "      <td>504</td>\n",
              "      <td>119.048</td>\n",
              "      <td>0</td>\n",
              "      <td>0.0</td>\n",
              "      <td>0.0</td>\n",
              "      <td>4</td>\n",
              "      <td>8</td>\n",
              "      <td>0.015938</td>\n",
              "      <td>328</td>\n",
              "      <td>1</td>\n",
              "      <td>1</td>\n",
              "      <td>1</td>\n",
              "      <td>65</td>\n",
              "      <td>0.0</td>\n",
              "      <td>108.57</td>\n",
              "      <td>0.00</td>\n",
              "      <td>255</td>\n",
              "      <td>4.50625</td>\n",
              "      <td>0</td>\n",
              "      <td>2136</td>\n",
              "      <td>0</td>\n",
              "      <td>17.6</td>\n",
              "      <td>0</td>\n",
              "      <td>4</td>\n",
              "      <td>16.1459</td>\n",
              "    </tr>\n",
              "  </tbody>\n",
              "</table>\n",
              "</div>"
            ],
            "text/plain": [
              "   TrialID  ObsNum       P1       P2    P3    P4        P5   P6       P7  P8  \\\n",
              "0        0       0  38.4294  10.9435  1000  60.0  0.302277  508  118.110   0   \n",
              "1        0       1  38.3609  15.3212  1000  60.0  0.302277  508  118.110   0   \n",
              "2        0       2  38.2342  11.5140  1000  60.0  0.302277  508  118.110   0   \n",
              "3        0       3  37.9304  12.2615  1000  60.0  0.302277  508  118.110   0   \n",
              "4        0       4  37.8085  12.3666  1000  60.0  0.302277  504  119.048   0   \n",
              "\n",
              "    E1   E2  E3  E4        E5   E6  E7  E8  E9  E10  E11      V1    V2   V3  \\\n",
              "0  0.0  0.0   4   4  0.015434  328   1   1   1   64  0.0  108.57  0.00  255   \n",
              "1  0.0  0.0   4   4  0.015434  328   1   1   1   64  0.0  108.57  0.00  255   \n",
              "2  0.0  0.0   4   8  0.015938  328   1   1   1   65  0.0  108.65  0.07  255   \n",
              "3  0.0  0.0   4   8  0.015938  328   1   1   1   65  0.0  108.65  0.07  255   \n",
              "4  0.0  0.0   4   8  0.015938  328   1   1   1   65  0.0  108.57  0.00  255   \n",
              "\n",
              "        V4  V5    V6  V7    V8  V9  V10      V11  \n",
              "0  4.50625   0  2127   0  17.6   0    4  16.1937  \n",
              "1  4.50625   0  2127   0  17.6   0    4  16.1744  \n",
              "2  4.50625   0  2131   0  17.6   0    4  16.1602  \n",
              "3  4.50625   0  2131   0  17.6   0    4  16.1725  \n",
              "4  4.50625   0  2136   0  17.6   0    4  16.1459  "
            ]
          },
          "metadata": {},
          "execution_count": 11
        }
      ]
    },
    {
      "cell_type": "code",
      "metadata": {
        "colab": {
          "base_uri": "https://localhost:8080/"
        },
        "id": "FbYIXvHpfZ22",
        "outputId": "5fcb12ea-2084-4536-e72d-f00514fb23f1"
      },
      "source": [
        "train.shape"
      ],
      "execution_count": null,
      "outputs": [
        {
          "output_type": "execute_result",
          "data": {
            "text/plain": [
              "(604329, 33)"
            ]
          },
          "metadata": {},
          "execution_count": 12
        }
      ]
    },
    {
      "cell_type": "code",
      "metadata": {
        "colab": {
          "base_uri": "https://localhost:8080/"
        },
        "id": "8eb9yjixfjf7",
        "outputId": "f4c4357b-a5f5-4aa9-912e-d03ccdacdc9c"
      },
      "source": [
        "train.columns"
      ],
      "execution_count": null,
      "outputs": [
        {
          "output_type": "execute_result",
          "data": {
            "text/plain": [
              "Index(['TrialID', 'ObsNum', 'IsAlert', 'P1', 'P2', 'P3', 'P4', 'P5', 'P6',\n",
              "       'P7', 'P8', 'E1', 'E2', 'E3', 'E4', 'E5', 'E6', 'E7', 'E8', 'E9', 'E10',\n",
              "       'E11', 'V1', 'V2', 'V3', 'V4', 'V5', 'V6', 'V7', 'V8', 'V9', 'V10',\n",
              "       'V11'],\n",
              "      dtype='object')"
            ]
          },
          "metadata": {},
          "execution_count": 13
        }
      ]
    },
    {
      "cell_type": "code",
      "metadata": {
        "colab": {
          "base_uri": "https://localhost:8080/"
        },
        "id": "rqYc9n75fllJ",
        "outputId": "0a4fc00d-c775-48fc-e452-30065f84a8b3"
      },
      "source": [
        "train.info()"
      ],
      "execution_count": null,
      "outputs": [
        {
          "output_type": "stream",
          "text": [
            "<class 'pandas.core.frame.DataFrame'>\n",
            "RangeIndex: 604329 entries, 0 to 604328\n",
            "Data columns (total 33 columns):\n",
            " #   Column   Non-Null Count   Dtype  \n",
            "---  ------   --------------   -----  \n",
            " 0   TrialID  604329 non-null  int64  \n",
            " 1   ObsNum   604329 non-null  int64  \n",
            " 2   IsAlert  604329 non-null  int64  \n",
            " 3   P1       604329 non-null  float64\n",
            " 4   P2       604329 non-null  float64\n",
            " 5   P3       604329 non-null  int64  \n",
            " 6   P4       604329 non-null  float64\n",
            " 7   P5       604329 non-null  float64\n",
            " 8   P6       604329 non-null  int64  \n",
            " 9   P7       604329 non-null  float64\n",
            " 10  P8       604329 non-null  int64  \n",
            " 11  E1       604329 non-null  float64\n",
            " 12  E2       604329 non-null  float64\n",
            " 13  E3       604329 non-null  int64  \n",
            " 14  E4       604329 non-null  int64  \n",
            " 15  E5       604329 non-null  float64\n",
            " 16  E6       604329 non-null  int64  \n",
            " 17  E7       604329 non-null  int64  \n",
            " 18  E8       604329 non-null  int64  \n",
            " 19  E9       604329 non-null  int64  \n",
            " 20  E10      604329 non-null  int64  \n",
            " 21  E11      604329 non-null  float64\n",
            " 22  V1       604329 non-null  float64\n",
            " 23  V2       604329 non-null  float64\n",
            " 24  V3       604329 non-null  int64  \n",
            " 25  V4       604329 non-null  float64\n",
            " 26  V5       604329 non-null  int64  \n",
            " 27  V6       604329 non-null  int64  \n",
            " 28  V7       604329 non-null  int64  \n",
            " 29  V8       604329 non-null  float64\n",
            " 30  V9       604329 non-null  int64  \n",
            " 31  V10      604329 non-null  int64  \n",
            " 32  V11      604329 non-null  float64\n",
            "dtypes: float64(14), int64(19)\n",
            "memory usage: 152.2 MB\n"
          ],
          "name": "stdout"
        }
      ]
    },
    {
      "cell_type": "code",
      "metadata": {
        "colab": {
          "base_uri": "https://localhost:8080/",
          "height": 320
        },
        "id": "gimB4YTKfo29",
        "outputId": "b3eed8ff-5ad2-43f9-83d6-337d53af3b73"
      },
      "source": [
        "train.describe()"
      ],
      "execution_count": null,
      "outputs": [
        {
          "output_type": "execute_result",
          "data": {
            "text/html": [
              "<div>\n",
              "<style scoped>\n",
              "    .dataframe tbody tr th:only-of-type {\n",
              "        vertical-align: middle;\n",
              "    }\n",
              "\n",
              "    .dataframe tbody tr th {\n",
              "        vertical-align: top;\n",
              "    }\n",
              "\n",
              "    .dataframe thead th {\n",
              "        text-align: right;\n",
              "    }\n",
              "</style>\n",
              "<table border=\"1\" class=\"dataframe\">\n",
              "  <thead>\n",
              "    <tr style=\"text-align: right;\">\n",
              "      <th></th>\n",
              "      <th>TrialID</th>\n",
              "      <th>ObsNum</th>\n",
              "      <th>IsAlert</th>\n",
              "      <th>P1</th>\n",
              "      <th>P2</th>\n",
              "      <th>P3</th>\n",
              "      <th>P4</th>\n",
              "      <th>P5</th>\n",
              "      <th>P6</th>\n",
              "      <th>P7</th>\n",
              "      <th>P8</th>\n",
              "      <th>E1</th>\n",
              "      <th>E2</th>\n",
              "      <th>E3</th>\n",
              "      <th>E4</th>\n",
              "      <th>E5</th>\n",
              "      <th>E6</th>\n",
              "      <th>E7</th>\n",
              "      <th>E8</th>\n",
              "      <th>E9</th>\n",
              "      <th>E10</th>\n",
              "      <th>E11</th>\n",
              "      <th>V1</th>\n",
              "      <th>V2</th>\n",
              "      <th>V3</th>\n",
              "      <th>V4</th>\n",
              "      <th>V5</th>\n",
              "      <th>V6</th>\n",
              "      <th>V7</th>\n",
              "      <th>V8</th>\n",
              "      <th>V9</th>\n",
              "      <th>V10</th>\n",
              "      <th>V11</th>\n",
              "    </tr>\n",
              "  </thead>\n",
              "  <tbody>\n",
              "    <tr>\n",
              "      <th>count</th>\n",
              "      <td>604329.000000</td>\n",
              "      <td>604329.000000</td>\n",
              "      <td>604329.000000</td>\n",
              "      <td>604329.000000</td>\n",
              "      <td>604329.000000</td>\n",
              "      <td>604329.000000</td>\n",
              "      <td>604329.000000</td>\n",
              "      <td>604329.000000</td>\n",
              "      <td>604329.000000</td>\n",
              "      <td>604329.000000</td>\n",
              "      <td>604329.0</td>\n",
              "      <td>604329.000000</td>\n",
              "      <td>604329.000000</td>\n",
              "      <td>604329.000000</td>\n",
              "      <td>604329.000000</td>\n",
              "      <td>604329.000000</td>\n",
              "      <td>604329.000000</td>\n",
              "      <td>604329.000000</td>\n",
              "      <td>604329.000000</td>\n",
              "      <td>604329.000000</td>\n",
              "      <td>604329.000000</td>\n",
              "      <td>604329.000000</td>\n",
              "      <td>604329.000000</td>\n",
              "      <td>604329.000000</td>\n",
              "      <td>604329.000000</td>\n",
              "      <td>604329.000000</td>\n",
              "      <td>604329.000000</td>\n",
              "      <td>604329.000000</td>\n",
              "      <td>604329.0</td>\n",
              "      <td>604329.000000</td>\n",
              "      <td>604329.0</td>\n",
              "      <td>604329.000000</td>\n",
              "      <td>604329.000000</td>\n",
              "    </tr>\n",
              "    <tr>\n",
              "      <th>mean</th>\n",
              "      <td>250.167657</td>\n",
              "      <td>603.841765</td>\n",
              "      <td>0.578799</td>\n",
              "      <td>35.449020</td>\n",
              "      <td>11.996525</td>\n",
              "      <td>1026.671035</td>\n",
              "      <td>64.061965</td>\n",
              "      <td>0.178923</td>\n",
              "      <td>845.384610</td>\n",
              "      <td>77.887628</td>\n",
              "      <td>0.0</td>\n",
              "      <td>10.512332</td>\n",
              "      <td>102.790045</td>\n",
              "      <td>0.290565</td>\n",
              "      <td>-4.230136</td>\n",
              "      <td>0.016262</td>\n",
              "      <td>358.674738</td>\n",
              "      <td>1.757296</td>\n",
              "      <td>1.383058</td>\n",
              "      <td>0.876787</td>\n",
              "      <td>63.311256</td>\n",
              "      <td>1.315265</td>\n",
              "      <td>76.965412</td>\n",
              "      <td>-0.037710</td>\n",
              "      <td>573.786433</td>\n",
              "      <td>19.961030</td>\n",
              "      <td>0.179814</td>\n",
              "      <td>1715.688383</td>\n",
              "      <td>0.0</td>\n",
              "      <td>12.710354</td>\n",
              "      <td>0.0</td>\n",
              "      <td>3.312257</td>\n",
              "      <td>11.668277</td>\n",
              "    </tr>\n",
              "    <tr>\n",
              "      <th>std</th>\n",
              "      <td>145.446164</td>\n",
              "      <td>348.931601</td>\n",
              "      <td>0.493752</td>\n",
              "      <td>7.484629</td>\n",
              "      <td>3.760292</td>\n",
              "      <td>309.277877</td>\n",
              "      <td>19.755950</td>\n",
              "      <td>0.372309</td>\n",
              "      <td>2505.335141</td>\n",
              "      <td>18.577930</td>\n",
              "      <td>0.0</td>\n",
              "      <td>14.049071</td>\n",
              "      <td>127.258629</td>\n",
              "      <td>1.006162</td>\n",
              "      <td>35.508596</td>\n",
              "      <td>0.002304</td>\n",
              "      <td>27.399973</td>\n",
              "      <td>2.854852</td>\n",
              "      <td>1.608807</td>\n",
              "      <td>0.328681</td>\n",
              "      <td>18.891029</td>\n",
              "      <td>5.247204</td>\n",
              "      <td>44.387031</td>\n",
              "      <td>0.403896</td>\n",
              "      <td>298.412888</td>\n",
              "      <td>63.269456</td>\n",
              "      <td>0.384033</td>\n",
              "      <td>618.176470</td>\n",
              "      <td>0.0</td>\n",
              "      <td>11.532085</td>\n",
              "      <td>0.0</td>\n",
              "      <td>1.243586</td>\n",
              "      <td>9.934423</td>\n",
              "    </tr>\n",
              "    <tr>\n",
              "      <th>min</th>\n",
              "      <td>0.000000</td>\n",
              "      <td>0.000000</td>\n",
              "      <td>0.000000</td>\n",
              "      <td>-22.481200</td>\n",
              "      <td>-45.629200</td>\n",
              "      <td>504.000000</td>\n",
              "      <td>23.885300</td>\n",
              "      <td>0.038920</td>\n",
              "      <td>128.000000</td>\n",
              "      <td>0.262224</td>\n",
              "      <td>0.0</td>\n",
              "      <td>0.000000</td>\n",
              "      <td>0.000000</td>\n",
              "      <td>0.000000</td>\n",
              "      <td>-250.000000</td>\n",
              "      <td>0.008000</td>\n",
              "      <td>260.000000</td>\n",
              "      <td>0.000000</td>\n",
              "      <td>0.000000</td>\n",
              "      <td>0.000000</td>\n",
              "      <td>0.000000</td>\n",
              "      <td>0.000000</td>\n",
              "      <td>0.000000</td>\n",
              "      <td>-4.795000</td>\n",
              "      <td>240.000000</td>\n",
              "      <td>0.000000</td>\n",
              "      <td>0.000000</td>\n",
              "      <td>0.000000</td>\n",
              "      <td>0.0</td>\n",
              "      <td>0.000000</td>\n",
              "      <td>0.0</td>\n",
              "      <td>1.000000</td>\n",
              "      <td>1.676730</td>\n",
              "    </tr>\n",
              "    <tr>\n",
              "      <th>25%</th>\n",
              "      <td>125.000000</td>\n",
              "      <td>302.000000</td>\n",
              "      <td>0.000000</td>\n",
              "      <td>31.758100</td>\n",
              "      <td>9.903540</td>\n",
              "      <td>792.000000</td>\n",
              "      <td>49.180300</td>\n",
              "      <td>0.092110</td>\n",
              "      <td>668.000000</td>\n",
              "      <td>66.666700</td>\n",
              "      <td>0.0</td>\n",
              "      <td>0.000000</td>\n",
              "      <td>0.000000</td>\n",
              "      <td>0.000000</td>\n",
              "      <td>-8.000000</td>\n",
              "      <td>0.015686</td>\n",
              "      <td>348.000000</td>\n",
              "      <td>0.000000</td>\n",
              "      <td>0.000000</td>\n",
              "      <td>1.000000</td>\n",
              "      <td>52.000000</td>\n",
              "      <td>0.000000</td>\n",
              "      <td>41.930000</td>\n",
              "      <td>-0.175000</td>\n",
              "      <td>255.000000</td>\n",
              "      <td>1.487500</td>\n",
              "      <td>0.000000</td>\n",
              "      <td>1259.000000</td>\n",
              "      <td>0.0</td>\n",
              "      <td>0.000000</td>\n",
              "      <td>0.0</td>\n",
              "      <td>3.000000</td>\n",
              "      <td>7.947680</td>\n",
              "    </tr>\n",
              "    <tr>\n",
              "      <th>50%</th>\n",
              "      <td>250.000000</td>\n",
              "      <td>604.000000</td>\n",
              "      <td>1.000000</td>\n",
              "      <td>34.145100</td>\n",
              "      <td>11.400400</td>\n",
              "      <td>1000.000000</td>\n",
              "      <td>60.000000</td>\n",
              "      <td>0.105083</td>\n",
              "      <td>800.000000</td>\n",
              "      <td>75.000000</td>\n",
              "      <td>0.0</td>\n",
              "      <td>0.000000</td>\n",
              "      <td>0.000000</td>\n",
              "      <td>0.000000</td>\n",
              "      <td>0.000000</td>\n",
              "      <td>0.016001</td>\n",
              "      <td>365.000000</td>\n",
              "      <td>1.000000</td>\n",
              "      <td>1.000000</td>\n",
              "      <td>1.000000</td>\n",
              "      <td>67.000000</td>\n",
              "      <td>0.000000</td>\n",
              "      <td>100.400000</td>\n",
              "      <td>0.000000</td>\n",
              "      <td>511.000000</td>\n",
              "      <td>3.018750</td>\n",
              "      <td>0.000000</td>\n",
              "      <td>1994.000000</td>\n",
              "      <td>0.0</td>\n",
              "      <td>12.800000</td>\n",
              "      <td>0.0</td>\n",
              "      <td>4.000000</td>\n",
              "      <td>10.772600</td>\n",
              "    </tr>\n",
              "    <tr>\n",
              "      <th>75%</th>\n",
              "      <td>374.000000</td>\n",
              "      <td>906.000000</td>\n",
              "      <td>1.000000</td>\n",
              "      <td>37.311900</td>\n",
              "      <td>13.644200</td>\n",
              "      <td>1220.000000</td>\n",
              "      <td>75.757600</td>\n",
              "      <td>0.138814</td>\n",
              "      <td>900.000000</td>\n",
              "      <td>89.820400</td>\n",
              "      <td>0.0</td>\n",
              "      <td>28.240000</td>\n",
              "      <td>211.584000</td>\n",
              "      <td>0.000000</td>\n",
              "      <td>6.000000</td>\n",
              "      <td>0.016694</td>\n",
              "      <td>367.000000</td>\n",
              "      <td>2.000000</td>\n",
              "      <td>2.000000</td>\n",
              "      <td>1.000000</td>\n",
              "      <td>73.000000</td>\n",
              "      <td>0.000000</td>\n",
              "      <td>108.500000</td>\n",
              "      <td>0.070000</td>\n",
              "      <td>767.000000</td>\n",
              "      <td>7.481250</td>\n",
              "      <td>0.000000</td>\n",
              "      <td>2146.000000</td>\n",
              "      <td>0.0</td>\n",
              "      <td>21.900000</td>\n",
              "      <td>0.0</td>\n",
              "      <td>4.000000</td>\n",
              "      <td>15.270900</td>\n",
              "    </tr>\n",
              "    <tr>\n",
              "      <th>max</th>\n",
              "      <td>510.000000</td>\n",
              "      <td>1210.000000</td>\n",
              "      <td>1.000000</td>\n",
              "      <td>101.351000</td>\n",
              "      <td>71.173700</td>\n",
              "      <td>2512.000000</td>\n",
              "      <td>119.048000</td>\n",
              "      <td>27.202200</td>\n",
              "      <td>228812.000000</td>\n",
              "      <td>468.750000</td>\n",
              "      <td>0.0</td>\n",
              "      <td>243.991000</td>\n",
              "      <td>359.995000</td>\n",
              "      <td>4.000000</td>\n",
              "      <td>260.000000</td>\n",
              "      <td>0.023939</td>\n",
              "      <td>513.000000</td>\n",
              "      <td>25.000000</td>\n",
              "      <td>9.000000</td>\n",
              "      <td>1.000000</td>\n",
              "      <td>127.000000</td>\n",
              "      <td>52.400000</td>\n",
              "      <td>129.700000</td>\n",
              "      <td>3.990000</td>\n",
              "      <td>1023.000000</td>\n",
              "      <td>484.488000</td>\n",
              "      <td>1.000000</td>\n",
              "      <td>4892.000000</td>\n",
              "      <td>0.0</td>\n",
              "      <td>82.100000</td>\n",
              "      <td>0.0</td>\n",
              "      <td>7.000000</td>\n",
              "      <td>262.534000</td>\n",
              "    </tr>\n",
              "  </tbody>\n",
              "</table>\n",
              "</div>"
            ],
            "text/plain": [
              "             TrialID         ObsNum        IsAlert             P1  \\\n",
              "count  604329.000000  604329.000000  604329.000000  604329.000000   \n",
              "mean      250.167657     603.841765       0.578799      35.449020   \n",
              "std       145.446164     348.931601       0.493752       7.484629   \n",
              "min         0.000000       0.000000       0.000000     -22.481200   \n",
              "25%       125.000000     302.000000       0.000000      31.758100   \n",
              "50%       250.000000     604.000000       1.000000      34.145100   \n",
              "75%       374.000000     906.000000       1.000000      37.311900   \n",
              "max       510.000000    1210.000000       1.000000     101.351000   \n",
              "\n",
              "                  P2             P3             P4             P5  \\\n",
              "count  604329.000000  604329.000000  604329.000000  604329.000000   \n",
              "mean       11.996525    1026.671035      64.061965       0.178923   \n",
              "std         3.760292     309.277877      19.755950       0.372309   \n",
              "min       -45.629200     504.000000      23.885300       0.038920   \n",
              "25%         9.903540     792.000000      49.180300       0.092110   \n",
              "50%        11.400400    1000.000000      60.000000       0.105083   \n",
              "75%        13.644200    1220.000000      75.757600       0.138814   \n",
              "max        71.173700    2512.000000     119.048000      27.202200   \n",
              "\n",
              "                  P6             P7        P8             E1             E2  \\\n",
              "count  604329.000000  604329.000000  604329.0  604329.000000  604329.000000   \n",
              "mean      845.384610      77.887628       0.0      10.512332     102.790045   \n",
              "std      2505.335141      18.577930       0.0      14.049071     127.258629   \n",
              "min       128.000000       0.262224       0.0       0.000000       0.000000   \n",
              "25%       668.000000      66.666700       0.0       0.000000       0.000000   \n",
              "50%       800.000000      75.000000       0.0       0.000000       0.000000   \n",
              "75%       900.000000      89.820400       0.0      28.240000     211.584000   \n",
              "max    228812.000000     468.750000       0.0     243.991000     359.995000   \n",
              "\n",
              "                  E3             E4             E5             E6  \\\n",
              "count  604329.000000  604329.000000  604329.000000  604329.000000   \n",
              "mean        0.290565      -4.230136       0.016262     358.674738   \n",
              "std         1.006162      35.508596       0.002304      27.399973   \n",
              "min         0.000000    -250.000000       0.008000     260.000000   \n",
              "25%         0.000000      -8.000000       0.015686     348.000000   \n",
              "50%         0.000000       0.000000       0.016001     365.000000   \n",
              "75%         0.000000       6.000000       0.016694     367.000000   \n",
              "max         4.000000     260.000000       0.023939     513.000000   \n",
              "\n",
              "                  E7             E8             E9            E10  \\\n",
              "count  604329.000000  604329.000000  604329.000000  604329.000000   \n",
              "mean        1.757296       1.383058       0.876787      63.311256   \n",
              "std         2.854852       1.608807       0.328681      18.891029   \n",
              "min         0.000000       0.000000       0.000000       0.000000   \n",
              "25%         0.000000       0.000000       1.000000      52.000000   \n",
              "50%         1.000000       1.000000       1.000000      67.000000   \n",
              "75%         2.000000       2.000000       1.000000      73.000000   \n",
              "max        25.000000       9.000000       1.000000     127.000000   \n",
              "\n",
              "                 E11             V1             V2             V3  \\\n",
              "count  604329.000000  604329.000000  604329.000000  604329.000000   \n",
              "mean        1.315265      76.965412      -0.037710     573.786433   \n",
              "std         5.247204      44.387031       0.403896     298.412888   \n",
              "min         0.000000       0.000000      -4.795000     240.000000   \n",
              "25%         0.000000      41.930000      -0.175000     255.000000   \n",
              "50%         0.000000     100.400000       0.000000     511.000000   \n",
              "75%         0.000000     108.500000       0.070000     767.000000   \n",
              "max        52.400000     129.700000       3.990000    1023.000000   \n",
              "\n",
              "                  V4             V5             V6        V7             V8  \\\n",
              "count  604329.000000  604329.000000  604329.000000  604329.0  604329.000000   \n",
              "mean       19.961030       0.179814    1715.688383       0.0      12.710354   \n",
              "std        63.269456       0.384033     618.176470       0.0      11.532085   \n",
              "min         0.000000       0.000000       0.000000       0.0       0.000000   \n",
              "25%         1.487500       0.000000    1259.000000       0.0       0.000000   \n",
              "50%         3.018750       0.000000    1994.000000       0.0      12.800000   \n",
              "75%         7.481250       0.000000    2146.000000       0.0      21.900000   \n",
              "max       484.488000       1.000000    4892.000000       0.0      82.100000   \n",
              "\n",
              "             V9            V10            V11  \n",
              "count  604329.0  604329.000000  604329.000000  \n",
              "mean        0.0       3.312257      11.668277  \n",
              "std         0.0       1.243586       9.934423  \n",
              "min         0.0       1.000000       1.676730  \n",
              "25%         0.0       3.000000       7.947680  \n",
              "50%         0.0       4.000000      10.772600  \n",
              "75%         0.0       4.000000      15.270900  \n",
              "max         0.0       7.000000     262.534000  "
            ]
          },
          "metadata": {},
          "execution_count": 15
        }
      ]
    },
    {
      "cell_type": "markdown",
      "metadata": {
        "id": "cOHXbf5SfsCq"
      },
      "source": [
        "### Identify Input and Target Columns"
      ]
    },
    {
      "cell_type": "code",
      "metadata": {
        "id": "G8aj-RdufvJn"
      },
      "source": [
        "X = train.drop(columns=['IsAlert'])\n",
        "y = train['IsAlert']"
      ],
      "execution_count": null,
      "outputs": []
    },
    {
      "cell_type": "code",
      "metadata": {
        "colab": {
          "base_uri": "https://localhost:8080/"
        },
        "id": "KNA7HHavf1Xv",
        "outputId": "50ac6ca9-c45b-47ad-98de-26ae4980693f"
      },
      "source": [
        "print(X.shape)"
      ],
      "execution_count": null,
      "outputs": [
        {
          "output_type": "stream",
          "text": [
            "(604329, 32)\n"
          ],
          "name": "stdout"
        }
      ]
    },
    {
      "cell_type": "code",
      "metadata": {
        "colab": {
          "base_uri": "https://localhost:8080/"
        },
        "id": "-zAW1Ax_f3Wr",
        "outputId": "bc5cd1f6-2c28-49f8-82fe-45b12bd243b6"
      },
      "source": [
        "print(y.shape)"
      ],
      "execution_count": null,
      "outputs": [
        {
          "output_type": "stream",
          "text": [
            "(604329,)\n"
          ],
          "name": "stdout"
        }
      ]
    },
    {
      "cell_type": "markdown",
      "metadata": {
        "id": "1cLyv3OUf5Qj"
      },
      "source": [
        "###Separate Numeric and Target columns"
      ]
    },
    {
      "cell_type": "code",
      "metadata": {
        "id": "rvj7PpHpf8mq"
      },
      "source": [
        "num_cols = X.select_dtypes(include=np.number).columns.tolist()\n",
        "cat_cols = X.select_dtypes(include='object').columns.tolist()"
      ],
      "execution_count": null,
      "outputs": []
    },
    {
      "cell_type": "code",
      "metadata": {
        "colab": {
          "base_uri": "https://localhost:8080/"
        },
        "id": "H79KlN_TgIF_",
        "outputId": "a000ce84-6aa9-4997-e691-2d17e58f78b3"
      },
      "source": [
        "print(cat_cols)"
      ],
      "execution_count": null,
      "outputs": [
        {
          "output_type": "stream",
          "text": [
            "[]\n"
          ],
          "name": "stdout"
        }
      ]
    },
    {
      "cell_type": "code",
      "metadata": {
        "colab": {
          "base_uri": "https://localhost:8080/"
        },
        "id": "LSSA6d99gJgr",
        "outputId": "6fb23d16-0d8b-4ed2-e579-8fc05bd08790"
      },
      "source": [
        "print(num_cols)"
      ],
      "execution_count": null,
      "outputs": [
        {
          "output_type": "stream",
          "text": [
            "['TrialID', 'ObsNum', 'P1', 'P2', 'P3', 'P4', 'P5', 'P6', 'P7', 'P8', 'E1', 'E2', 'E3', 'E4', 'E5', 'E6', 'E7', 'E8', 'E9', 'E10', 'E11', 'V1', 'V2', 'V3', 'V4', 'V5', 'V6', 'V7', 'V8', 'V9', 'V10', 'V11']\n"
          ],
          "name": "stdout"
        }
      ]
    },
    {
      "cell_type": "markdown",
      "metadata": {
        "id": "yninKU1hgPjq"
      },
      "source": [
        "###Handling missing values"
      ]
    },
    {
      "cell_type": "code",
      "metadata": {
        "colab": {
          "base_uri": "https://localhost:8080/"
        },
        "id": "-LJGv4ACgQkn",
        "outputId": "fae965e3-ef4f-4a2a-9b0c-2e9eb5442656"
      },
      "source": [
        "X[num_cols].isna().sum()"
      ],
      "execution_count": null,
      "outputs": [
        {
          "output_type": "execute_result",
          "data": {
            "text/plain": [
              "TrialID    0\n",
              "ObsNum     0\n",
              "P1         0\n",
              "P2         0\n",
              "P3         0\n",
              "P4         0\n",
              "P5         0\n",
              "P6         0\n",
              "P7         0\n",
              "P8         0\n",
              "E1         0\n",
              "E2         0\n",
              "E3         0\n",
              "E4         0\n",
              "E5         0\n",
              "E6         0\n",
              "E7         0\n",
              "E8         0\n",
              "E9         0\n",
              "E10        0\n",
              "E11        0\n",
              "V1         0\n",
              "V2         0\n",
              "V3         0\n",
              "V4         0\n",
              "V5         0\n",
              "V6         0\n",
              "V7         0\n",
              "V8         0\n",
              "V9         0\n",
              "V10        0\n",
              "V11        0\n",
              "dtype: int64"
            ]
          },
          "metadata": {},
          "execution_count": 22
        }
      ]
    },
    {
      "cell_type": "markdown",
      "metadata": {
        "id": "bb9GSgH8gc4N"
      },
      "source": [
        "###Scaling numeric cols to range(0,1)"
      ]
    },
    {
      "cell_type": "code",
      "metadata": {
        "colab": {
          "base_uri": "https://localhost:8080/",
          "height": 132
        },
        "id": "Lb8k8-ZyghY1",
        "outputId": "f67f5cd1-7b7b-4c01-91a7-17519e3ca7b0"
      },
      "source": [
        "X[num_cols].describe().loc[['min','max']]"
      ],
      "execution_count": null,
      "outputs": [
        {
          "output_type": "execute_result",
          "data": {
            "text/html": [
              "<div>\n",
              "<style scoped>\n",
              "    .dataframe tbody tr th:only-of-type {\n",
              "        vertical-align: middle;\n",
              "    }\n",
              "\n",
              "    .dataframe tbody tr th {\n",
              "        vertical-align: top;\n",
              "    }\n",
              "\n",
              "    .dataframe thead th {\n",
              "        text-align: right;\n",
              "    }\n",
              "</style>\n",
              "<table border=\"1\" class=\"dataframe\">\n",
              "  <thead>\n",
              "    <tr style=\"text-align: right;\">\n",
              "      <th></th>\n",
              "      <th>TrialID</th>\n",
              "      <th>ObsNum</th>\n",
              "      <th>P1</th>\n",
              "      <th>P2</th>\n",
              "      <th>P3</th>\n",
              "      <th>P4</th>\n",
              "      <th>P5</th>\n",
              "      <th>P6</th>\n",
              "      <th>P7</th>\n",
              "      <th>P8</th>\n",
              "      <th>E1</th>\n",
              "      <th>E2</th>\n",
              "      <th>E3</th>\n",
              "      <th>E4</th>\n",
              "      <th>E5</th>\n",
              "      <th>E6</th>\n",
              "      <th>E7</th>\n",
              "      <th>E8</th>\n",
              "      <th>E9</th>\n",
              "      <th>E10</th>\n",
              "      <th>E11</th>\n",
              "      <th>V1</th>\n",
              "      <th>V2</th>\n",
              "      <th>V3</th>\n",
              "      <th>V4</th>\n",
              "      <th>V5</th>\n",
              "      <th>V6</th>\n",
              "      <th>V7</th>\n",
              "      <th>V8</th>\n",
              "      <th>V9</th>\n",
              "      <th>V10</th>\n",
              "      <th>V11</th>\n",
              "    </tr>\n",
              "  </thead>\n",
              "  <tbody>\n",
              "    <tr>\n",
              "      <th>min</th>\n",
              "      <td>0.0</td>\n",
              "      <td>0.0</td>\n",
              "      <td>-22.4812</td>\n",
              "      <td>-45.6292</td>\n",
              "      <td>504.0</td>\n",
              "      <td>23.8853</td>\n",
              "      <td>0.03892</td>\n",
              "      <td>128.0</td>\n",
              "      <td>0.262224</td>\n",
              "      <td>0.0</td>\n",
              "      <td>0.000</td>\n",
              "      <td>0.000</td>\n",
              "      <td>0.0</td>\n",
              "      <td>-250.0</td>\n",
              "      <td>0.008000</td>\n",
              "      <td>260.0</td>\n",
              "      <td>0.0</td>\n",
              "      <td>0.0</td>\n",
              "      <td>0.0</td>\n",
              "      <td>0.0</td>\n",
              "      <td>0.0</td>\n",
              "      <td>0.0</td>\n",
              "      <td>-4.795</td>\n",
              "      <td>240.0</td>\n",
              "      <td>0.000</td>\n",
              "      <td>0.0</td>\n",
              "      <td>0.0</td>\n",
              "      <td>0.0</td>\n",
              "      <td>0.0</td>\n",
              "      <td>0.0</td>\n",
              "      <td>1.0</td>\n",
              "      <td>1.67673</td>\n",
              "    </tr>\n",
              "    <tr>\n",
              "      <th>max</th>\n",
              "      <td>510.0</td>\n",
              "      <td>1210.0</td>\n",
              "      <td>101.3510</td>\n",
              "      <td>71.1737</td>\n",
              "      <td>2512.0</td>\n",
              "      <td>119.0480</td>\n",
              "      <td>27.20220</td>\n",
              "      <td>228812.0</td>\n",
              "      <td>468.750000</td>\n",
              "      <td>0.0</td>\n",
              "      <td>243.991</td>\n",
              "      <td>359.995</td>\n",
              "      <td>4.0</td>\n",
              "      <td>260.0</td>\n",
              "      <td>0.023939</td>\n",
              "      <td>513.0</td>\n",
              "      <td>25.0</td>\n",
              "      <td>9.0</td>\n",
              "      <td>1.0</td>\n",
              "      <td>127.0</td>\n",
              "      <td>52.4</td>\n",
              "      <td>129.7</td>\n",
              "      <td>3.990</td>\n",
              "      <td>1023.0</td>\n",
              "      <td>484.488</td>\n",
              "      <td>1.0</td>\n",
              "      <td>4892.0</td>\n",
              "      <td>0.0</td>\n",
              "      <td>82.1</td>\n",
              "      <td>0.0</td>\n",
              "      <td>7.0</td>\n",
              "      <td>262.53400</td>\n",
              "    </tr>\n",
              "  </tbody>\n",
              "</table>\n",
              "</div>"
            ],
            "text/plain": [
              "     TrialID  ObsNum        P1       P2      P3        P4        P5        P6  \\\n",
              "min      0.0     0.0  -22.4812 -45.6292   504.0   23.8853   0.03892     128.0   \n",
              "max    510.0  1210.0  101.3510  71.1737  2512.0  119.0480  27.20220  228812.0   \n",
              "\n",
              "             P7   P8       E1       E2   E3     E4        E5     E6    E7  \\\n",
              "min    0.262224  0.0    0.000    0.000  0.0 -250.0  0.008000  260.0   0.0   \n",
              "max  468.750000  0.0  243.991  359.995  4.0  260.0  0.023939  513.0  25.0   \n",
              "\n",
              "      E8   E9    E10   E11     V1     V2      V3       V4   V5      V6   V7  \\\n",
              "min  0.0  0.0    0.0   0.0    0.0 -4.795   240.0    0.000  0.0     0.0  0.0   \n",
              "max  9.0  1.0  127.0  52.4  129.7  3.990  1023.0  484.488  1.0  4892.0  0.0   \n",
              "\n",
              "       V8   V9  V10        V11  \n",
              "min   0.0  0.0  1.0    1.67673  \n",
              "max  82.1  0.0  7.0  262.53400  "
            ]
          },
          "metadata": {},
          "execution_count": 23
        }
      ]
    },
    {
      "cell_type": "code",
      "metadata": {
        "id": "iuqkfI9Igk4a"
      },
      "source": [
        "from sklearn.preprocessing import MinMaxScaler\n",
        "scaler = MinMaxScaler().fit(train[num_cols])\n",
        "X[num_cols] = scaler.transform(X[num_cols])"
      ],
      "execution_count": null,
      "outputs": []
    },
    {
      "cell_type": "code",
      "metadata": {
        "colab": {
          "base_uri": "https://localhost:8080/",
          "height": 132
        },
        "id": "TpNhxc9QgrJR",
        "outputId": "4441130c-6828-4237-d479-920903e9a06d"
      },
      "source": [
        "X[num_cols].describe().loc[['min','max']]"
      ],
      "execution_count": null,
      "outputs": [
        {
          "output_type": "execute_result",
          "data": {
            "text/html": [
              "<div>\n",
              "<style scoped>\n",
              "    .dataframe tbody tr th:only-of-type {\n",
              "        vertical-align: middle;\n",
              "    }\n",
              "\n",
              "    .dataframe tbody tr th {\n",
              "        vertical-align: top;\n",
              "    }\n",
              "\n",
              "    .dataframe thead th {\n",
              "        text-align: right;\n",
              "    }\n",
              "</style>\n",
              "<table border=\"1\" class=\"dataframe\">\n",
              "  <thead>\n",
              "    <tr style=\"text-align: right;\">\n",
              "      <th></th>\n",
              "      <th>TrialID</th>\n",
              "      <th>ObsNum</th>\n",
              "      <th>P1</th>\n",
              "      <th>P2</th>\n",
              "      <th>P3</th>\n",
              "      <th>P4</th>\n",
              "      <th>P5</th>\n",
              "      <th>P6</th>\n",
              "      <th>P7</th>\n",
              "      <th>P8</th>\n",
              "      <th>E1</th>\n",
              "      <th>E2</th>\n",
              "      <th>E3</th>\n",
              "      <th>E4</th>\n",
              "      <th>E5</th>\n",
              "      <th>E6</th>\n",
              "      <th>E7</th>\n",
              "      <th>E8</th>\n",
              "      <th>E9</th>\n",
              "      <th>E10</th>\n",
              "      <th>E11</th>\n",
              "      <th>V1</th>\n",
              "      <th>V2</th>\n",
              "      <th>V3</th>\n",
              "      <th>V4</th>\n",
              "      <th>V5</th>\n",
              "      <th>V6</th>\n",
              "      <th>V7</th>\n",
              "      <th>V8</th>\n",
              "      <th>V9</th>\n",
              "      <th>V10</th>\n",
              "      <th>V11</th>\n",
              "    </tr>\n",
              "  </thead>\n",
              "  <tbody>\n",
              "    <tr>\n",
              "      <th>min</th>\n",
              "      <td>0.0</td>\n",
              "      <td>0.0</td>\n",
              "      <td>0.0</td>\n",
              "      <td>0.0</td>\n",
              "      <td>0.0</td>\n",
              "      <td>0.0</td>\n",
              "      <td>0.0</td>\n",
              "      <td>0.0</td>\n",
              "      <td>0.0</td>\n",
              "      <td>0.0</td>\n",
              "      <td>0.0</td>\n",
              "      <td>0.0</td>\n",
              "      <td>0.0</td>\n",
              "      <td>0.0</td>\n",
              "      <td>0.0</td>\n",
              "      <td>0.0</td>\n",
              "      <td>0.0</td>\n",
              "      <td>0.0</td>\n",
              "      <td>0.0</td>\n",
              "      <td>0.0</td>\n",
              "      <td>0.0</td>\n",
              "      <td>0.0</td>\n",
              "      <td>0.0</td>\n",
              "      <td>0.0</td>\n",
              "      <td>0.0</td>\n",
              "      <td>0.0</td>\n",
              "      <td>0.0</td>\n",
              "      <td>0.0</td>\n",
              "      <td>0.0</td>\n",
              "      <td>0.0</td>\n",
              "      <td>0.0</td>\n",
              "      <td>0.0</td>\n",
              "    </tr>\n",
              "    <tr>\n",
              "      <th>max</th>\n",
              "      <td>1.0</td>\n",
              "      <td>1.0</td>\n",
              "      <td>1.0</td>\n",
              "      <td>1.0</td>\n",
              "      <td>1.0</td>\n",
              "      <td>1.0</td>\n",
              "      <td>1.0</td>\n",
              "      <td>1.0</td>\n",
              "      <td>1.0</td>\n",
              "      <td>0.0</td>\n",
              "      <td>1.0</td>\n",
              "      <td>1.0</td>\n",
              "      <td>1.0</td>\n",
              "      <td>1.0</td>\n",
              "      <td>1.0</td>\n",
              "      <td>1.0</td>\n",
              "      <td>1.0</td>\n",
              "      <td>1.0</td>\n",
              "      <td>1.0</td>\n",
              "      <td>1.0</td>\n",
              "      <td>1.0</td>\n",
              "      <td>1.0</td>\n",
              "      <td>1.0</td>\n",
              "      <td>1.0</td>\n",
              "      <td>1.0</td>\n",
              "      <td>1.0</td>\n",
              "      <td>1.0</td>\n",
              "      <td>0.0</td>\n",
              "      <td>1.0</td>\n",
              "      <td>0.0</td>\n",
              "      <td>1.0</td>\n",
              "      <td>1.0</td>\n",
              "    </tr>\n",
              "  </tbody>\n",
              "</table>\n",
              "</div>"
            ],
            "text/plain": [
              "     TrialID  ObsNum   P1   P2   P3   P4   P5   P6   P7   P8   E1   E2   E3  \\\n",
              "min      0.0     0.0  0.0  0.0  0.0  0.0  0.0  0.0  0.0  0.0  0.0  0.0  0.0   \n",
              "max      1.0     1.0  1.0  1.0  1.0  1.0  1.0  1.0  1.0  0.0  1.0  1.0  1.0   \n",
              "\n",
              "      E4   E5   E6   E7   E8   E9  E10  E11   V1   V2   V3   V4   V5   V6  \\\n",
              "min  0.0  0.0  0.0  0.0  0.0  0.0  0.0  0.0  0.0  0.0  0.0  0.0  0.0  0.0   \n",
              "max  1.0  1.0  1.0  1.0  1.0  1.0  1.0  1.0  1.0  1.0  1.0  1.0  1.0  1.0   \n",
              "\n",
              "      V7   V8   V9  V10  V11  \n",
              "min  0.0  0.0  0.0  0.0  0.0  \n",
              "max  0.0  1.0  0.0  1.0  1.0  "
            ]
          },
          "metadata": {},
          "execution_count": 25
        }
      ]
    },
    {
      "cell_type": "markdown",
      "metadata": {
        "id": "7zi8I7phgttT"
      },
      "source": [
        "### Splitting the data"
      ]
    },
    {
      "cell_type": "code",
      "metadata": {
        "id": "dkrxNYhVgv4R"
      },
      "source": [
        "from sklearn.model_selection import train_test_split\n",
        "X_train, X_val, y_train, y_val = train_test_split(X, y, test_size=0.35)"
      ],
      "execution_count": null,
      "outputs": []
    },
    {
      "cell_type": "code",
      "metadata": {
        "colab": {
          "base_uri": "https://localhost:8080/"
        },
        "id": "wrKIczYKg0nx",
        "outputId": "73ace256-93e5-49b4-d019-3fd30762f82a"
      },
      "source": [
        "print(X_train.shape)\n",
        "print(y_train.shape)\n",
        "print(X_val.shape)\n",
        "print(y_val.shape)"
      ],
      "execution_count": null,
      "outputs": [
        {
          "output_type": "stream",
          "text": [
            "(392813, 32)\n",
            "(392813,)\n",
            "(211516, 32)\n",
            "(211516,)\n"
          ],
          "name": "stdout"
        }
      ]
    },
    {
      "cell_type": "markdown",
      "metadata": {
        "id": "mvVt5uVPg2rD"
      },
      "source": [
        "###Model Defining"
      ]
    },
    {
      "cell_type": "code",
      "metadata": {
        "id": "vyeuV1Mdg5IN"
      },
      "source": [
        "from sklearn.linear_model import LogisticRegression\n",
        "from sklearn.tree import DecisionTreeClassifier\n",
        "from sklearn.ensemble import RandomForestClassifier"
      ],
      "execution_count": null,
      "outputs": []
    },
    {
      "cell_type": "code",
      "metadata": {
        "colab": {
          "base_uri": "https://localhost:8080/"
        },
        "id": "_frovmINg-i9",
        "outputId": "079fca0c-fefc-4c5f-c75e-525654a3172a"
      },
      "source": [
        "lr_model = LogisticRegression().fit(X_train, y_train)\n",
        "dt_model = DecisionTreeClassifier(random_state=42).fit(X_train,y_train)\n",
        "rfc_model = RandomForestClassifier(n_jobs=-1, random_state=42).fit(X_train, y_train)"
      ],
      "execution_count": null,
      "outputs": [
        {
          "output_type": "stream",
          "text": [
            "/usr/local/lib/python3.7/dist-packages/sklearn/linear_model/_logistic.py:765: ConvergenceWarning: lbfgs failed to converge (status=1):\n",
            "STOP: TOTAL NO. of ITERATIONS REACHED LIMIT.\n",
            "\n",
            "Increase the number of iterations (max_iter) or scale the data as shown in:\n",
            "    https://scikit-learn.org/stable/modules/preprocessing.html\n",
            "Please also refer to the documentation for alternative solver options:\n",
            "    https://scikit-learn.org/stable/modules/linear_model.html#logistic-regression\n",
            "  extra_warning_msg=_LOGISTIC_SOLVER_CONVERGENCE_MSG)\n"
          ],
          "name": "stderr"
        }
      ]
    },
    {
      "cell_type": "code",
      "metadata": {
        "id": "ImOLVQ2EhHPi"
      },
      "source": [
        "#train preds\n",
        "lr_train_preds = lr_model.predict(X_train)\n",
        "dt_train_preds = dt_model.predict(X_train)\n",
        "rfc_train_preds = rfc_model.predict(X_train)\n",
        "\n",
        "#val preds\n",
        "lr_val_preds = lr_model.predict(X_val)\n",
        "dt_val_preds = dt_model.predict(X_val)\n",
        "rfc_val_preds = rfc_model.predict(X_val)"
      ],
      "execution_count": null,
      "outputs": []
    },
    {
      "cell_type": "markdown",
      "metadata": {
        "id": "foerHnzIhL87"
      },
      "source": [
        "###Evaluation"
      ]
    },
    {
      "cell_type": "code",
      "metadata": {
        "id": "dhGdXgeihKMU"
      },
      "source": [
        "from sklearn import metrics\n",
        "\n",
        "def score(targets, predictions):\n",
        "    return metrics.accuracy_score(targets,predictions)"
      ],
      "execution_count": null,
      "outputs": []
    },
    {
      "cell_type": "code",
      "metadata": {
        "id": "D_679Zu4hQsy"
      },
      "source": [
        "lr_train_score = score(y_train,lr_train_preds)\n",
        "lr_val_score = score(y_val,lr_val_preds)\n",
        "\n",
        "dt_train_score = score(y_train, dt_train_preds)\n",
        "dt_val_score = score(y_val, dt_val_preds)\n",
        "\n",
        "rfc_train_score = score(y_train,rfc_train_preds)\n",
        "rfc_val_score = score(y_val,rfc_val_preds)"
      ],
      "execution_count": null,
      "outputs": []
    },
    {
      "cell_type": "code",
      "metadata": {
        "id": "6uYkYmQChTeu"
      },
      "source": [
        "score = pd.DataFrame({\n",
        "    'Models': ['Logistic Regression','DecisionTreeClassifier','RandomForestClassifier'],\n",
        "    'Train_Score' : [lr_train_score,dt_train_score,rfc_train_score],\n",
        "    'Validation_Score' : [lr_val_score,dt_val_score,rfc_val_score],\n",
        "})"
      ],
      "execution_count": null,
      "outputs": []
    },
    {
      "cell_type": "code",
      "metadata": {
        "colab": {
          "base_uri": "https://localhost:8080/",
          "height": 143
        },
        "id": "yYxCVc5KhVW9",
        "outputId": "81363232-4aeb-4757-e620-287d08feacab"
      },
      "source": [
        "score"
      ],
      "execution_count": null,
      "outputs": [
        {
          "output_type": "execute_result",
          "data": {
            "text/html": [
              "<div>\n",
              "<style scoped>\n",
              "    .dataframe tbody tr th:only-of-type {\n",
              "        vertical-align: middle;\n",
              "    }\n",
              "\n",
              "    .dataframe tbody tr th {\n",
              "        vertical-align: top;\n",
              "    }\n",
              "\n",
              "    .dataframe thead th {\n",
              "        text-align: right;\n",
              "    }\n",
              "</style>\n",
              "<table border=\"1\" class=\"dataframe\">\n",
              "  <thead>\n",
              "    <tr style=\"text-align: right;\">\n",
              "      <th></th>\n",
              "      <th>Models</th>\n",
              "      <th>Train_Score</th>\n",
              "      <th>Validation_Score</th>\n",
              "    </tr>\n",
              "  </thead>\n",
              "  <tbody>\n",
              "    <tr>\n",
              "      <th>0</th>\n",
              "      <td>Logistic Regression</td>\n",
              "      <td>0.814599</td>\n",
              "      <td>0.815395</td>\n",
              "    </tr>\n",
              "    <tr>\n",
              "      <th>1</th>\n",
              "      <td>DecisionTreeClassifier</td>\n",
              "      <td>1.000000</td>\n",
              "      <td>0.987282</td>\n",
              "    </tr>\n",
              "    <tr>\n",
              "      <th>2</th>\n",
              "      <td>RandomForestClassifier</td>\n",
              "      <td>1.000000</td>\n",
              "      <td>0.992748</td>\n",
              "    </tr>\n",
              "  </tbody>\n",
              "</table>\n",
              "</div>"
            ],
            "text/plain": [
              "                   Models  Train_Score  Validation_Score\n",
              "0     Logistic Regression     0.814599          0.815395\n",
              "1  DecisionTreeClassifier     1.000000          0.987282\n",
              "2  RandomForestClassifier     1.000000          0.992748"
            ]
          },
          "metadata": {},
          "execution_count": 34
        }
      ]
    },
    {
      "cell_type": "code",
      "metadata": {
        "colab": {
          "base_uri": "https://localhost:8080/"
        },
        "id": "JvfUah9_1Xac",
        "outputId": "a2dc86a2-eab8-47d9-b618-901b2d1c87f4"
      },
      "source": [
        "dt_model.score(X_train,y_train), dt_model.score(X_val, y_val)"
      ],
      "execution_count": null,
      "outputs": [
        {
          "output_type": "execute_result",
          "data": {
            "text/plain": [
              "(1.0, 0.9872822859736379)"
            ]
          },
          "metadata": {},
          "execution_count": 42
        }
      ]
    },
    {
      "cell_type": "markdown",
      "metadata": {
        "id": "-J-Lj-9i1WWs"
      },
      "source": [
        "the training accuracy is almost 100%"
      ]
    },
    {
      "cell_type": "markdown",
      "metadata": {
        "id": "jkiTSsDu2GGG"
      },
      "source": [
        "### Hyperparameter tuning"
      ]
    },
    {
      "cell_type": "markdown",
      "metadata": {
        "id": "vp2wbbkOBzKx"
      },
      "source": [
        "**Training a Random Forest**  \n",
        " While tuning the hyperparameters of a single decision tree may lead to some improvements, a much more effective strategy is to combine the results of several decision trees trained with slightly different parameters. This is called a random forest model."
      ]
    },
    {
      "cell_type": "markdown",
      "metadata": {
        "id": "kCby8FAXB_JI"
      },
      "source": [
        "A random forest works by averaging/combining the results of several decision trees:\n",
        "\n",
        "<img src=\"https://1.bp.blogspot.com/-Ax59WK4DE8w/YK6o9bt_9jI/AAAAAAAAEQA/9KbBf9cdL6kOFkJnU39aUn4m8ydThPenwCLcBGAsYHQ/s0/Random%2BForest%2B03.gif\" width=\"640\">\n",
        "\n",
        "\n",
        "We'll use the `RandomForestClassifier` class from `sklearn.ensemble`."
      ]
    },
    {
      "cell_type": "code",
      "metadata": {
        "id": "A-MUN0h82JbW"
      },
      "source": [
        "from sklearn.ensemble import RandomForestClassifier\n",
        "model = RandomForestClassifier(n_jobs=-1, random_state=42, n_estimators=150)"
      ],
      "execution_count": null,
      "outputs": []
    },
    {
      "cell_type": "code",
      "metadata": {
        "colab": {
          "base_uri": "https://localhost:8080/"
        },
        "id": "jeHAKgmY1944",
        "outputId": "f0608a9d-394a-4a2a-e9fc-a8baf816f1ea"
      },
      "source": [
        "model.fit(X_train, y_train)"
      ],
      "execution_count": null,
      "outputs": [
        {
          "output_type": "execute_result",
          "data": {
            "text/plain": [
              "RandomForestClassifier(n_estimators=150, n_jobs=-1, random_state=42)"
            ]
          },
          "metadata": {},
          "execution_count": 51
        }
      ]
    },
    {
      "cell_type": "code",
      "metadata": {
        "colab": {
          "base_uri": "https://localhost:8080/"
        },
        "id": "g0cYa4QY2REG",
        "outputId": "08596ce9-3b18-4c1d-e0a1-44ae1089f0aa"
      },
      "source": [
        "print(model.score(X_train, y_train))\n",
        "print(model.score(X_val, y_val))"
      ],
      "execution_count": null,
      "outputs": [
        {
          "output_type": "stream",
          "text": [
            "1.0\n",
            "0.992700315815352\n"
          ],
          "name": "stdout"
        }
      ]
    },
    {
      "cell_type": "code",
      "metadata": {
        "id": "XKHzznVX2YmS"
      },
      "source": [
        "def test_params(**params):\n",
        "    model = RandomForestClassifier(random_state=42, n_jobs=-1, **params).fit(X_train, y_train)\n",
        "    return model.score(X_train, y_train), model.score(X_val, y_val)"
      ],
      "execution_count": null,
      "outputs": []
    },
    {
      "cell_type": "code",
      "metadata": {
        "colab": {
          "base_uri": "https://localhost:8080/"
        },
        "id": "gkyx8ZqV3C8w",
        "outputId": "4df42b03-cf23-4312-e873-fb72c08344b5"
      },
      "source": [
        "test_params(max_depth=15)"
      ],
      "execution_count": null,
      "outputs": [
        {
          "output_type": "execute_result",
          "data": {
            "text/plain": [
              "(0.9677480124130311, 0.9660782163051495)"
            ]
          },
          "metadata": {},
          "execution_count": 59
        }
      ]
    },
    {
      "cell_type": "markdown",
      "metadata": {
        "id": "bm2ShUi3CN00"
      },
      "source": [
        "### `n_estimators`\n",
        "\n",
        "This argument controls the number of decision trees in the random forest. The default value is 100. For larger datasets, it helps to have a greater number of estimators. As a general rule, try to have as few estimators as needed."
      ]
    },
    {
      "cell_type": "code",
      "metadata": {
        "colab": {
          "base_uri": "https://localhost:8080/"
        },
        "id": "6qQ6cZVy3GNC",
        "outputId": "4330a76a-1663-444a-cb88-2f1dbd7be116"
      },
      "source": [
        "test_params(n_estimators=25)"
      ],
      "execution_count": null,
      "outputs": [
        {
          "output_type": "execute_result",
          "data": {
            "text/plain": [
              "(0.9999541766693057, 0.99226063276537)"
            ]
          },
          "metadata": {},
          "execution_count": 65
        }
      ]
    },
    {
      "cell_type": "code",
      "metadata": {
        "colab": {
          "base_uri": "https://localhost:8080/"
        },
        "id": "rltUbntu8-I4",
        "outputId": "8904dd2d-edf3-496e-b337-ff74bbdb0ff2"
      },
      "source": [
        "test_params(min_samples_split=3, min_samples_leaf=2)"
      ],
      "execution_count": null,
      "outputs": [
        {
          "output_type": "execute_result",
          "data": {
            "text/plain": [
              "(0.9989435176534381, 0.9883413075133796)"
            ]
          },
          "metadata": {},
          "execution_count": 71
        }
      ]
    },
    {
      "cell_type": "code",
      "metadata": {
        "id": "CBJJZMP87jKe"
      },
      "source": [
        "model = RandomForestClassifier(n_jobs=-1,\n",
        "                               random_state=42,\n",
        "                               n_estimators=25,\n",
        "                               min_samples_split=3,\n",
        "                               min_samples_leaf=2,\n",
        "                               max_depth=15)"
      ],
      "execution_count": null,
      "outputs": []
    },
    {
      "cell_type": "code",
      "metadata": {
        "colab": {
          "base_uri": "https://localhost:8080/"
        },
        "id": "MueVfIMo7mtq",
        "outputId": "d3847561-b8d3-4b3c-ef1c-dde83f83acb6"
      },
      "source": [
        "model.fit(X_train, y_train)"
      ],
      "execution_count": null,
      "outputs": [
        {
          "output_type": "execute_result",
          "data": {
            "text/plain": [
              "RandomForestClassifier(max_depth=15, min_samples_leaf=2, min_samples_split=3,\n",
              "                       n_estimators=25, n_jobs=-1, random_state=42)"
            ]
          },
          "metadata": {},
          "execution_count": 73
        }
      ]
    },
    {
      "cell_type": "code",
      "metadata": {
        "colab": {
          "base_uri": "https://localhost:8080/"
        },
        "id": "OnYOAp0o7sGh",
        "outputId": "3c7b3c39-ae20-4865-9bfb-3dd4e038bee5"
      },
      "source": [
        "model.score(X_train, y_train), model.score(X_val, y_val)"
      ],
      "execution_count": null,
      "outputs": [
        {
          "output_type": "execute_result",
          "data": {
            "text/plain": [
              "(0.9668417287615226, 0.9650475614137938)"
            ]
          },
          "metadata": {},
          "execution_count": 74
        }
      ]
    },
    {
      "cell_type": "markdown",
      "metadata": {
        "id": "2IfGOizb9nDT"
      },
      "source": [
        "### preprocessing the test data\n"
      ]
    },
    {
      "cell_type": "code",
      "metadata": {
        "colab": {
          "base_uri": "https://localhost:8080/",
          "height": 226
        },
        "id": "3kaR8-xZ9qpy",
        "outputId": "4ab78134-5411-41a0-dd4f-365554362627"
      },
      "source": [
        "test.head()"
      ],
      "execution_count": null,
      "outputs": [
        {
          "output_type": "execute_result",
          "data": {
            "text/html": [
              "<div>\n",
              "<style scoped>\n",
              "    .dataframe tbody tr th:only-of-type {\n",
              "        vertical-align: middle;\n",
              "    }\n",
              "\n",
              "    .dataframe tbody tr th {\n",
              "        vertical-align: top;\n",
              "    }\n",
              "\n",
              "    .dataframe thead th {\n",
              "        text-align: right;\n",
              "    }\n",
              "</style>\n",
              "<table border=\"1\" class=\"dataframe\">\n",
              "  <thead>\n",
              "    <tr style=\"text-align: right;\">\n",
              "      <th></th>\n",
              "      <th>TrialID</th>\n",
              "      <th>ObsNum</th>\n",
              "      <th>P1</th>\n",
              "      <th>P2</th>\n",
              "      <th>P3</th>\n",
              "      <th>P4</th>\n",
              "      <th>P5</th>\n",
              "      <th>P6</th>\n",
              "      <th>P7</th>\n",
              "      <th>P8</th>\n",
              "      <th>E1</th>\n",
              "      <th>E2</th>\n",
              "      <th>E3</th>\n",
              "      <th>E4</th>\n",
              "      <th>E5</th>\n",
              "      <th>E6</th>\n",
              "      <th>E7</th>\n",
              "      <th>E8</th>\n",
              "      <th>E9</th>\n",
              "      <th>E10</th>\n",
              "      <th>E11</th>\n",
              "      <th>V1</th>\n",
              "      <th>V2</th>\n",
              "      <th>V3</th>\n",
              "      <th>V4</th>\n",
              "      <th>V5</th>\n",
              "      <th>V6</th>\n",
              "      <th>V7</th>\n",
              "      <th>V8</th>\n",
              "      <th>V9</th>\n",
              "      <th>V10</th>\n",
              "      <th>V11</th>\n",
              "    </tr>\n",
              "  </thead>\n",
              "  <tbody>\n",
              "    <tr>\n",
              "      <th>0</th>\n",
              "      <td>0</td>\n",
              "      <td>0</td>\n",
              "      <td>38.4294</td>\n",
              "      <td>10.9435</td>\n",
              "      <td>1000</td>\n",
              "      <td>60.0</td>\n",
              "      <td>0.302277</td>\n",
              "      <td>508</td>\n",
              "      <td>118.110</td>\n",
              "      <td>0</td>\n",
              "      <td>0.0</td>\n",
              "      <td>0.0</td>\n",
              "      <td>4</td>\n",
              "      <td>4</td>\n",
              "      <td>0.015434</td>\n",
              "      <td>328</td>\n",
              "      <td>1</td>\n",
              "      <td>1</td>\n",
              "      <td>1</td>\n",
              "      <td>64</td>\n",
              "      <td>0.0</td>\n",
              "      <td>108.57</td>\n",
              "      <td>0.00</td>\n",
              "      <td>255</td>\n",
              "      <td>4.50625</td>\n",
              "      <td>0</td>\n",
              "      <td>2127</td>\n",
              "      <td>0</td>\n",
              "      <td>17.6</td>\n",
              "      <td>0</td>\n",
              "      <td>4</td>\n",
              "      <td>16.1937</td>\n",
              "    </tr>\n",
              "    <tr>\n",
              "      <th>1</th>\n",
              "      <td>0</td>\n",
              "      <td>1</td>\n",
              "      <td>38.3609</td>\n",
              "      <td>15.3212</td>\n",
              "      <td>1000</td>\n",
              "      <td>60.0</td>\n",
              "      <td>0.302277</td>\n",
              "      <td>508</td>\n",
              "      <td>118.110</td>\n",
              "      <td>0</td>\n",
              "      <td>0.0</td>\n",
              "      <td>0.0</td>\n",
              "      <td>4</td>\n",
              "      <td>4</td>\n",
              "      <td>0.015434</td>\n",
              "      <td>328</td>\n",
              "      <td>1</td>\n",
              "      <td>1</td>\n",
              "      <td>1</td>\n",
              "      <td>64</td>\n",
              "      <td>0.0</td>\n",
              "      <td>108.57</td>\n",
              "      <td>0.00</td>\n",
              "      <td>255</td>\n",
              "      <td>4.50625</td>\n",
              "      <td>0</td>\n",
              "      <td>2127</td>\n",
              "      <td>0</td>\n",
              "      <td>17.6</td>\n",
              "      <td>0</td>\n",
              "      <td>4</td>\n",
              "      <td>16.1744</td>\n",
              "    </tr>\n",
              "    <tr>\n",
              "      <th>2</th>\n",
              "      <td>0</td>\n",
              "      <td>2</td>\n",
              "      <td>38.2342</td>\n",
              "      <td>11.5140</td>\n",
              "      <td>1000</td>\n",
              "      <td>60.0</td>\n",
              "      <td>0.302277</td>\n",
              "      <td>508</td>\n",
              "      <td>118.110</td>\n",
              "      <td>0</td>\n",
              "      <td>0.0</td>\n",
              "      <td>0.0</td>\n",
              "      <td>4</td>\n",
              "      <td>8</td>\n",
              "      <td>0.015938</td>\n",
              "      <td>328</td>\n",
              "      <td>1</td>\n",
              "      <td>1</td>\n",
              "      <td>1</td>\n",
              "      <td>65</td>\n",
              "      <td>0.0</td>\n",
              "      <td>108.65</td>\n",
              "      <td>0.07</td>\n",
              "      <td>255</td>\n",
              "      <td>4.50625</td>\n",
              "      <td>0</td>\n",
              "      <td>2131</td>\n",
              "      <td>0</td>\n",
              "      <td>17.6</td>\n",
              "      <td>0</td>\n",
              "      <td>4</td>\n",
              "      <td>16.1602</td>\n",
              "    </tr>\n",
              "    <tr>\n",
              "      <th>3</th>\n",
              "      <td>0</td>\n",
              "      <td>3</td>\n",
              "      <td>37.9304</td>\n",
              "      <td>12.2615</td>\n",
              "      <td>1000</td>\n",
              "      <td>60.0</td>\n",
              "      <td>0.302277</td>\n",
              "      <td>508</td>\n",
              "      <td>118.110</td>\n",
              "      <td>0</td>\n",
              "      <td>0.0</td>\n",
              "      <td>0.0</td>\n",
              "      <td>4</td>\n",
              "      <td>8</td>\n",
              "      <td>0.015938</td>\n",
              "      <td>328</td>\n",
              "      <td>1</td>\n",
              "      <td>1</td>\n",
              "      <td>1</td>\n",
              "      <td>65</td>\n",
              "      <td>0.0</td>\n",
              "      <td>108.65</td>\n",
              "      <td>0.07</td>\n",
              "      <td>255</td>\n",
              "      <td>4.50625</td>\n",
              "      <td>0</td>\n",
              "      <td>2131</td>\n",
              "      <td>0</td>\n",
              "      <td>17.6</td>\n",
              "      <td>0</td>\n",
              "      <td>4</td>\n",
              "      <td>16.1725</td>\n",
              "    </tr>\n",
              "    <tr>\n",
              "      <th>4</th>\n",
              "      <td>0</td>\n",
              "      <td>4</td>\n",
              "      <td>37.8085</td>\n",
              "      <td>12.3666</td>\n",
              "      <td>1000</td>\n",
              "      <td>60.0</td>\n",
              "      <td>0.302277</td>\n",
              "      <td>504</td>\n",
              "      <td>119.048</td>\n",
              "      <td>0</td>\n",
              "      <td>0.0</td>\n",
              "      <td>0.0</td>\n",
              "      <td>4</td>\n",
              "      <td>8</td>\n",
              "      <td>0.015938</td>\n",
              "      <td>328</td>\n",
              "      <td>1</td>\n",
              "      <td>1</td>\n",
              "      <td>1</td>\n",
              "      <td>65</td>\n",
              "      <td>0.0</td>\n",
              "      <td>108.57</td>\n",
              "      <td>0.00</td>\n",
              "      <td>255</td>\n",
              "      <td>4.50625</td>\n",
              "      <td>0</td>\n",
              "      <td>2136</td>\n",
              "      <td>0</td>\n",
              "      <td>17.6</td>\n",
              "      <td>0</td>\n",
              "      <td>4</td>\n",
              "      <td>16.1459</td>\n",
              "    </tr>\n",
              "  </tbody>\n",
              "</table>\n",
              "</div>"
            ],
            "text/plain": [
              "   TrialID  ObsNum       P1       P2    P3    P4        P5   P6       P7  P8  \\\n",
              "0        0       0  38.4294  10.9435  1000  60.0  0.302277  508  118.110   0   \n",
              "1        0       1  38.3609  15.3212  1000  60.0  0.302277  508  118.110   0   \n",
              "2        0       2  38.2342  11.5140  1000  60.0  0.302277  508  118.110   0   \n",
              "3        0       3  37.9304  12.2615  1000  60.0  0.302277  508  118.110   0   \n",
              "4        0       4  37.8085  12.3666  1000  60.0  0.302277  504  119.048   0   \n",
              "\n",
              "    E1   E2  E3  E4        E5   E6  E7  E8  E9  E10  E11      V1    V2   V3  \\\n",
              "0  0.0  0.0   4   4  0.015434  328   1   1   1   64  0.0  108.57  0.00  255   \n",
              "1  0.0  0.0   4   4  0.015434  328   1   1   1   64  0.0  108.57  0.00  255   \n",
              "2  0.0  0.0   4   8  0.015938  328   1   1   1   65  0.0  108.65  0.07  255   \n",
              "3  0.0  0.0   4   8  0.015938  328   1   1   1   65  0.0  108.65  0.07  255   \n",
              "4  0.0  0.0   4   8  0.015938  328   1   1   1   65  0.0  108.57  0.00  255   \n",
              "\n",
              "        V4  V5    V6  V7    V8  V9  V10      V11  \n",
              "0  4.50625   0  2127   0  17.6   0    4  16.1937  \n",
              "1  4.50625   0  2127   0  17.6   0    4  16.1744  \n",
              "2  4.50625   0  2131   0  17.6   0    4  16.1602  \n",
              "3  4.50625   0  2131   0  17.6   0    4  16.1725  \n",
              "4  4.50625   0  2136   0  17.6   0    4  16.1459  "
            ]
          },
          "metadata": {},
          "execution_count": 75
        }
      ]
    },
    {
      "cell_type": "code",
      "metadata": {
        "colab": {
          "base_uri": "https://localhost:8080/"
        },
        "id": "s76Mzadb90RO",
        "outputId": "dfb54e53-0c74-43c8-e352-99be36cebc08"
      },
      "source": [
        "test.shape"
      ],
      "execution_count": null,
      "outputs": [
        {
          "output_type": "execute_result",
          "data": {
            "text/plain": [
              "(120840, 32)"
            ]
          },
          "metadata": {},
          "execution_count": 76
        }
      ]
    },
    {
      "cell_type": "code",
      "metadata": {
        "colab": {
          "base_uri": "https://localhost:8080/"
        },
        "id": "ZYjATzYx92FT",
        "outputId": "9fb84ad4-08e6-4781-e323-986b1b88290b"
      },
      "source": [
        "test.isna().sum()"
      ],
      "execution_count": null,
      "outputs": [
        {
          "output_type": "execute_result",
          "data": {
            "text/plain": [
              "TrialID    0\n",
              "ObsNum     0\n",
              "P1         0\n",
              "P2         0\n",
              "P3         0\n",
              "P4         0\n",
              "P5         0\n",
              "P6         0\n",
              "P7         0\n",
              "P8         0\n",
              "E1         0\n",
              "E2         0\n",
              "E3         0\n",
              "E4         0\n",
              "E5         0\n",
              "E6         0\n",
              "E7         0\n",
              "E8         0\n",
              "E9         0\n",
              "E10        0\n",
              "E11        0\n",
              "V1         0\n",
              "V2         0\n",
              "V3         0\n",
              "V4         0\n",
              "V5         0\n",
              "V6         0\n",
              "V7         0\n",
              "V8         0\n",
              "V9         0\n",
              "V10        0\n",
              "V11        0\n",
              "dtype: int64"
            ]
          },
          "metadata": {},
          "execution_count": 77
        }
      ]
    },
    {
      "cell_type": "code",
      "metadata": {
        "id": "CyRc8pba97IM"
      },
      "source": [
        "test[num_cols] = scaler.transform(test[num_cols])\n",
        "#test[encoded_cols] = encoder.transform(test[cat_cols])"
      ],
      "execution_count": null,
      "outputs": []
    },
    {
      "cell_type": "code",
      "metadata": {
        "id": "w0u58LsN-B7K"
      },
      "source": [
        "test_preds = model.predict(test)"
      ],
      "execution_count": null,
      "outputs": []
    },
    {
      "cell_type": "code",
      "metadata": {
        "colab": {
          "base_uri": "https://localhost:8080/"
        },
        "id": "7Wur3BrW-IA_",
        "outputId": "8d3e2464-63c0-43a1-f8bb-448fab4cab80"
      },
      "source": [
        "test_preds"
      ],
      "execution_count": null,
      "outputs": [
        {
          "output_type": "execute_result",
          "data": {
            "text/plain": [
              "array([1, 1, 1, ..., 1, 1, 1])"
            ]
          },
          "metadata": {},
          "execution_count": 80
        }
      ]
    },
    {
      "cell_type": "code",
      "metadata": {
        "id": "4yBBwnO2-JTa"
      },
      "source": [
        "Solution.csv', 'fordTrain.csv', 'fordTest.csv', 'example_submission.csv'"
      ],
      "execution_count": null,
      "outputs": []
    },
    {
      "cell_type": "code",
      "metadata": {
        "colab": {
          "base_uri": "https://localhost:8080/",
          "height": 206
        },
        "id": "HMZqcIsu-qMj",
        "outputId": "9bb45f7f-b4c5-4746-a70c-adb6239015ff"
      },
      "source": [
        "sol = pd.read_csv('./stayalert/Solution.csv')\n",
        "sol.head()"
      ],
      "execution_count": null,
      "outputs": [
        {
          "output_type": "execute_result",
          "data": {
            "text/html": [
              "<div>\n",
              "<style scoped>\n",
              "    .dataframe tbody tr th:only-of-type {\n",
              "        vertical-align: middle;\n",
              "    }\n",
              "\n",
              "    .dataframe tbody tr th {\n",
              "        vertical-align: top;\n",
              "    }\n",
              "\n",
              "    .dataframe thead th {\n",
              "        text-align: right;\n",
              "    }\n",
              "</style>\n",
              "<table border=\"1\" class=\"dataframe\">\n",
              "  <thead>\n",
              "    <tr style=\"text-align: right;\">\n",
              "      <th></th>\n",
              "      <th>TrialID</th>\n",
              "      <th>ObsNum</th>\n",
              "      <th>Prediction</th>\n",
              "      <th>Indicator</th>\n",
              "    </tr>\n",
              "  </thead>\n",
              "  <tbody>\n",
              "    <tr>\n",
              "      <th>0</th>\n",
              "      <td>0</td>\n",
              "      <td>0</td>\n",
              "      <td>1</td>\n",
              "      <td>Public</td>\n",
              "    </tr>\n",
              "    <tr>\n",
              "      <th>1</th>\n",
              "      <td>0</td>\n",
              "      <td>1</td>\n",
              "      <td>1</td>\n",
              "      <td>Public</td>\n",
              "    </tr>\n",
              "    <tr>\n",
              "      <th>2</th>\n",
              "      <td>0</td>\n",
              "      <td>2</td>\n",
              "      <td>1</td>\n",
              "      <td>Private</td>\n",
              "    </tr>\n",
              "    <tr>\n",
              "      <th>3</th>\n",
              "      <td>0</td>\n",
              "      <td>3</td>\n",
              "      <td>1</td>\n",
              "      <td>Private</td>\n",
              "    </tr>\n",
              "    <tr>\n",
              "      <th>4</th>\n",
              "      <td>0</td>\n",
              "      <td>4</td>\n",
              "      <td>1</td>\n",
              "      <td>Private</td>\n",
              "    </tr>\n",
              "  </tbody>\n",
              "</table>\n",
              "</div>"
            ],
            "text/plain": [
              "   TrialID  ObsNum  Prediction Indicator\n",
              "0        0       0           1    Public\n",
              "1        0       1           1    Public\n",
              "2        0       2           1   Private\n",
              "3        0       3           1   Private\n",
              "4        0       4           1   Private"
            ]
          },
          "metadata": {},
          "execution_count": 82
        }
      ]
    },
    {
      "cell_type": "code",
      "metadata": {
        "id": "wLZ7T8bb-ypw"
      },
      "source": [
        "submission_df = pd.read_csv('./stayalert/example_submission.csv')"
      ],
      "execution_count": null,
      "outputs": []
    },
    {
      "cell_type": "code",
      "metadata": {
        "colab": {
          "base_uri": "https://localhost:8080/",
          "height": 423
        },
        "id": "GWMt8vxy_VgH",
        "outputId": "c2fb3265-64c8-4dba-a9a9-d0eaec9bdcd3"
      },
      "source": [
        "submission_df"
      ],
      "execution_count": null,
      "outputs": [
        {
          "output_type": "execute_result",
          "data": {
            "text/html": [
              "<div>\n",
              "<style scoped>\n",
              "    .dataframe tbody tr th:only-of-type {\n",
              "        vertical-align: middle;\n",
              "    }\n",
              "\n",
              "    .dataframe tbody tr th {\n",
              "        vertical-align: top;\n",
              "    }\n",
              "\n",
              "    .dataframe thead th {\n",
              "        text-align: right;\n",
              "    }\n",
              "</style>\n",
              "<table border=\"1\" class=\"dataframe\">\n",
              "  <thead>\n",
              "    <tr style=\"text-align: right;\">\n",
              "      <th></th>\n",
              "      <th>TrialID</th>\n",
              "      <th>ObsNum</th>\n",
              "      <th>Prediction</th>\n",
              "    </tr>\n",
              "  </thead>\n",
              "  <tbody>\n",
              "    <tr>\n",
              "      <th>0</th>\n",
              "      <td>0</td>\n",
              "      <td>0</td>\n",
              "      <td>0</td>\n",
              "    </tr>\n",
              "    <tr>\n",
              "      <th>1</th>\n",
              "      <td>0</td>\n",
              "      <td>1</td>\n",
              "      <td>0</td>\n",
              "    </tr>\n",
              "    <tr>\n",
              "      <th>2</th>\n",
              "      <td>0</td>\n",
              "      <td>2</td>\n",
              "      <td>0</td>\n",
              "    </tr>\n",
              "    <tr>\n",
              "      <th>3</th>\n",
              "      <td>0</td>\n",
              "      <td>3</td>\n",
              "      <td>0</td>\n",
              "    </tr>\n",
              "    <tr>\n",
              "      <th>4</th>\n",
              "      <td>0</td>\n",
              "      <td>4</td>\n",
              "      <td>0</td>\n",
              "    </tr>\n",
              "    <tr>\n",
              "      <th>...</th>\n",
              "      <td>...</td>\n",
              "      <td>...</td>\n",
              "      <td>...</td>\n",
              "    </tr>\n",
              "    <tr>\n",
              "      <th>120835</th>\n",
              "      <td>99</td>\n",
              "      <td>1206</td>\n",
              "      <td>0</td>\n",
              "    </tr>\n",
              "    <tr>\n",
              "      <th>120836</th>\n",
              "      <td>99</td>\n",
              "      <td>1207</td>\n",
              "      <td>0</td>\n",
              "    </tr>\n",
              "    <tr>\n",
              "      <th>120837</th>\n",
              "      <td>99</td>\n",
              "      <td>1208</td>\n",
              "      <td>0</td>\n",
              "    </tr>\n",
              "    <tr>\n",
              "      <th>120838</th>\n",
              "      <td>99</td>\n",
              "      <td>1209</td>\n",
              "      <td>0</td>\n",
              "    </tr>\n",
              "    <tr>\n",
              "      <th>120839</th>\n",
              "      <td>99</td>\n",
              "      <td>1210</td>\n",
              "      <td>0</td>\n",
              "    </tr>\n",
              "  </tbody>\n",
              "</table>\n",
              "<p>120840 rows × 3 columns</p>\n",
              "</div>"
            ],
            "text/plain": [
              "        TrialID  ObsNum  Prediction\n",
              "0             0       0           0\n",
              "1             0       1           0\n",
              "2             0       2           0\n",
              "3             0       3           0\n",
              "4             0       4           0\n",
              "...         ...     ...         ...\n",
              "120835       99    1206           0\n",
              "120836       99    1207           0\n",
              "120837       99    1208           0\n",
              "120838       99    1209           0\n",
              "120839       99    1210           0\n",
              "\n",
              "[120840 rows x 3 columns]"
            ]
          },
          "metadata": {},
          "execution_count": 84
        }
      ]
    },
    {
      "cell_type": "code",
      "metadata": {
        "id": "jRcNkQJP_X_G"
      },
      "source": [
        "submission_df['Prediction'] = test_preds"
      ],
      "execution_count": null,
      "outputs": []
    },
    {
      "cell_type": "code",
      "metadata": {
        "id": "toYfT0kK_c4K"
      },
      "source": [
        "submission_df.to_csv('submission.csv', index=False)"
      ],
      "execution_count": null,
      "outputs": []
    }
  ]
}